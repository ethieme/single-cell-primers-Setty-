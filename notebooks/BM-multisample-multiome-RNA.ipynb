{
 "cells": [
  {
   "cell_type": "markdown",
   "metadata": {},
   "source": [
    "# Prelim"
   ]
  },
  {
   "cell_type": "markdown",
   "metadata": {},
   "source": [
    "This notebook explains how to handle filtering and analysis when multiple samples need to be analyzed together. We will use the multiome data of the T-cell depleted bone marrow in the [SEACells](https://www.google.com/search?q=seacells+biorxiv&oq=seacells+biorxi&aqs=chrome.0.0i512j69i57.3474j0j7&sourceid=chrome&ie=UTF-8) manuscript. The data was generated using two 10X channels.\n",
    "\n",
    "The initial part of the notebook shows how to handle multiple samples. After combinig the two samples, the notebook follows the same flow of the multiome single-cell sample notebook. \n",
    "\n",
    "Data available at `s3://fh-pi-setty-m-eco-public/single-cell-primers/multi-sample-multiome/`"
   ]
  },
  {
   "cell_type": "code",
   "execution_count": 1,
   "metadata": {
    "local_metadata": {
     "ExecuteTime": {
      "end_time": "2021-02-13T22:01:25.116500Z",
      "start_time": "2021-02-13T22:01:22.742778Z"
     },
     "tags": []
    },
    "remote_metadata": {
     "ExecuteTime": {
      "end_time": "2021-02-13T22:01:25.116500Z",
      "start_time": "2021-02-13T22:01:22.742778Z"
     },
     "execution": {
      "iopub.execute_input": "2022-10-02T17:40:31.099979Z",
      "iopub.status.busy": "2022-10-02T17:40:31.099500Z",
      "iopub.status.idle": "2022-10-02T17:40:31.514184Z",
      "shell.execute_reply": "2022-10-02T17:40:31.513580Z",
      "shell.execute_reply.started": "2022-10-02T17:40:31.099857Z"
     },
     "tags": []
    }
   },
   "outputs": [],
   "source": [
    "import os\n",
    "import pandas as pd\n",
    "import numpy as np"
   ]
  },
  {
   "cell_type": "code",
   "execution_count": 2,
   "metadata": {
    "local_metadata": {
     "ExecuteTime": {
      "end_time": "2021-02-13T22:01:46.492001Z",
      "start_time": "2021-02-13T22:01:25.121887Z"
     },
     "tags": []
    },
    "remote_metadata": {
     "ExecuteTime": {
      "end_time": "2021-02-13T22:01:46.492001Z",
      "start_time": "2021-02-13T22:01:25.121887Z"
     },
     "execution": {
      "iopub.execute_input": "2022-10-02T17:40:31.515395Z",
      "iopub.status.busy": "2022-10-02T17:40:31.515216Z",
      "iopub.status.idle": "2022-10-02T17:40:33.633789Z",
      "shell.execute_reply": "2022-10-02T17:40:33.632968Z",
      "shell.execute_reply.started": "2022-10-02T17:40:31.515371Z"
     },
     "tags": []
    }
   },
   "outputs": [],
   "source": [
    "import scanpy as sc\n",
    "import pyranges as pr\n",
    "import warnings"
   ]
  },
  {
   "cell_type": "code",
   "execution_count": 3,
   "metadata": {
    "local_metadata": {
     "ExecuteTime": {
      "end_time": "2021-02-13T22:01:52.111171Z",
      "start_time": "2021-02-13T22:01:46.495028Z"
     },
     "tags": []
    },
    "remote_metadata": {
     "ExecuteTime": {
      "end_time": "2021-02-13T22:01:52.111171Z",
      "start_time": "2021-02-13T22:01:46.495028Z"
     },
     "execution": {
      "iopub.execute_input": "2022-10-02T17:40:33.635262Z",
      "iopub.status.busy": "2022-10-02T17:40:33.635061Z",
      "iopub.status.idle": "2022-10-02T17:40:34.044918Z",
      "shell.execute_reply": "2022-10-02T17:40:34.044031Z",
      "shell.execute_reply.started": "2022-10-02T17:40:33.635237Z"
     },
     "tags": []
    }
   },
   "outputs": [
    {
     "name": "stderr",
     "output_type": "stream",
     "text": [
      "findfont: Font family ['Raleway'] not found. Falling back to DejaVu Sans.\n",
      "findfont: Font family ['Lato'] not found. Falling back to DejaVu Sans.\n"
     ]
    }
   ],
   "source": [
    "import palantir \n",
    "import phenograph\n",
    "import harmony"
   ]
  },
  {
   "cell_type": "code",
   "execution_count": 4,
   "metadata": {
    "local_metadata": {
     "ExecuteTime": {
      "end_time": "2021-02-13T22:01:52.115311Z",
      "start_time": "2021-02-13T22:01:52.113151Z"
     },
     "tags": []
    },
    "remote_metadata": {
     "ExecuteTime": {
      "end_time": "2021-02-13T22:01:52.115311Z",
      "start_time": "2021-02-13T22:01:52.113151Z"
     },
     "execution": {
      "iopub.execute_input": "2022-10-02T17:40:34.046261Z",
      "iopub.status.busy": "2022-10-02T17:40:34.046060Z",
      "iopub.status.idle": "2022-10-02T17:40:34.049494Z",
      "shell.execute_reply": "2022-10-02T17:40:34.048728Z",
      "shell.execute_reply.started": "2022-10-02T17:40:34.046235Z"
     },
     "tags": []
    }
   },
   "outputs": [],
   "source": [
    "import matplotlib\n",
    "import matplotlib.pyplot as plt\n",
    "import seaborn as sns"
   ]
  },
  {
   "cell_type": "code",
   "execution_count": 5,
   "metadata": {
    "local_metadata": {
     "ExecuteTime": {
      "end_time": "2021-02-13T22:01:52.146266Z",
      "start_time": "2021-02-13T22:01:52.116695Z"
     },
     "tags": []
    },
    "remote_metadata": {
     "ExecuteTime": {
      "end_time": "2021-02-13T22:01:52.146266Z",
      "start_time": "2021-02-13T22:01:52.116695Z"
     },
     "execution": {
      "iopub.execute_input": "2022-10-02T17:40:34.050364Z",
      "iopub.status.busy": "2022-10-02T17:40:34.050202Z",
      "iopub.status.idle": "2022-10-02T17:40:34.068032Z",
      "shell.execute_reply": "2022-10-02T17:40:34.067326Z",
      "shell.execute_reply.started": "2022-10-02T17:40:34.050344Z"
     },
     "tags": []
    }
   },
   "outputs": [],
   "source": [
    "%matplotlib inline\n",
    "\n",
    "sns.set_style('ticks')\n",
    "matplotlib.rcParams['figure.figsize'] = [4, 4]\n",
    "matplotlib.rcParams['figure.dpi'] = 100\n",
    "matplotlib.rcParams['image.cmap'] = 'Spectral_r'\n",
    "warnings.filterwarnings(action=\"ignore\", module=\"matplotlib\", message=\"findfont\")"
   ]
  },
  {
   "cell_type": "markdown",
   "metadata": {},
   "source": [
    "# Utility functions"
   ]
  },
  {
   "cell_type": "code",
   "execution_count": 6,
   "metadata": {
    "local_metadata": {
     "ExecuteTime": {
      "end_time": "2021-02-13T22:01:52.150196Z",
      "start_time": "2021-02-13T22:01:52.147748Z"
     },
     "tags": []
    },
    "remote_metadata": {
     "ExecuteTime": {
      "end_time": "2021-02-13T22:01:52.150196Z",
      "start_time": "2021-02-13T22:01:52.147748Z"
     },
     "execution": {
      "iopub.execute_input": "2022-10-02T17:40:34.069228Z",
      "iopub.status.busy": "2022-10-02T17:40:34.069003Z",
      "iopub.status.idle": "2022-10-02T17:40:34.075541Z",
      "shell.execute_reply": "2022-10-02T17:40:34.074973Z",
      "shell.execute_reply.started": "2022-10-02T17:40:34.069201Z"
     },
     "tags": []
    }
   },
   "outputs": [],
   "source": [
    "def log_transform(ad, ps=0.1):\n",
    "    ad.X.data = np.log2(ad.X.data + ps) - np.log2(ps)"
   ]
  },
  {
   "cell_type": "code",
   "execution_count": 7,
   "metadata": {
    "local_metadata": {
     "ExecuteTime": {
      "end_time": "2021-02-13T22:01:52.161579Z",
      "start_time": "2021-02-13T22:01:52.151528Z"
     },
     "tags": []
    },
    "remote_metadata": {
     "ExecuteTime": {
      "end_time": "2021-02-13T22:01:52.161579Z",
      "start_time": "2021-02-13T22:01:52.151528Z"
     },
     "execution": {
      "iopub.execute_input": "2022-10-02T17:40:34.076502Z",
      "iopub.status.busy": "2022-10-02T17:40:34.076331Z",
      "iopub.status.idle": "2022-10-02T17:40:34.088839Z",
      "shell.execute_reply": "2022-10-02T17:40:34.088239Z",
      "shell.execute_reply.started": "2022-10-02T17:40:34.076482Z"
     },
     "tags": []
    }
   },
   "outputs": [],
   "source": [
    "from joblib import Parallel, delayed\n",
    "from scipy.sparse import hstack, csr_matrix, issparse\n",
    "import gc\n",
    "\n",
    "\n",
    "def _dot_func(x, y):\n",
    "    return x.dot(y)\n",
    "\n",
    "\n",
    "def impute_data(dm_res, ad, n_steps=3):\n",
    "    T_steps = dm_res['T'] ** n_steps\n",
    "    T_steps = T_steps.astype(np.float32)\n",
    "\n",
    "    # RUn in parallel\n",
    "    seq = np.append(np.arange(0, ad.X.shape[1], 100), [ad.X.shape[1]])\n",
    "    res = Parallel(n_jobs=-1)(delayed(_dot_func)(T_steps, ad.X[:, seq[i - 1]:seq[i]]) for i in range(1, len(seq)))\n",
    "    imputed_data = hstack(res)\n",
    "    imputed_data = imputed_data.todense()\n",
    "    imputed_data[imputed_data < 1e-2] = 0\n",
    "    gc.collect()\n",
    "\n",
    "    return imputed_data"
   ]
  },
  {
   "cell_type": "code",
   "execution_count": null,
   "metadata": {},
   "outputs": [],
   "source": []
  },
  {
   "cell_type": "markdown",
   "metadata": {},
   "source": [
    "# Load data"
   ]
  },
  {
   "cell_type": "code",
   "execution_count": 8,
   "metadata": {
    "local_metadata": {
     "tags": []
    },
    "remote_metadata": {
     "execution": {
      "iopub.execute_input": "2022-10-02T17:40:34.090350Z",
      "iopub.status.busy": "2022-10-02T17:40:34.090146Z",
      "iopub.status.idle": "2022-10-02T17:40:35.217047Z",
      "shell.execute_reply": "2022-10-02T17:40:35.215664Z",
      "shell.execute_reply.started": "2022-10-02T17:40:34.090324Z"
     },
     "tags": []
    }
   },
   "outputs": [],
   "source": [
    "# Copy over data to the current working directory\n",
    "<<<<<<< local\n",
    "!aws s3 sync s3://fh-pi-setty-m-eco-public/single-cell-primers/multi-sample-multiome/ ../data/multi-sample-multiome/\n",
    "=======\n",
    "!aws s3 sync s3://fh-pi-setty-m-eco-public/single-cell-primers/multi-sample-multiome/ multi-sample-multiome/\n",
    ">>>>>>> remote"
   ]
  },
  {
   "cell_type": "code",
   "execution_count": 9,
   "metadata": {
    "local_metadata": {
     "ExecuteTime": {
      "end_time": "2021-02-13T22:01:52.176801Z",
      "start_time": "2021-02-13T22:01:52.163202Z"
     },
     "tags": []
    },
    "remote_metadata": {
     "ExecuteTime": {
      "end_time": "2021-02-13T22:01:52.176801Z",
      "start_time": "2021-02-13T22:01:52.163202Z"
     },
     "execution": {
      "iopub.execute_input": "2022-10-02T17:40:35.219523Z",
      "iopub.status.busy": "2022-10-02T17:40:35.219171Z",
      "iopub.status.idle": "2022-10-02T17:40:35.223965Z",
      "shell.execute_reply": "2022-10-02T17:40:35.223135Z",
      "shell.execute_reply.started": "2022-10-02T17:40:35.219478Z"
     },
     "tags": []
    }
   },
   "outputs": [],
   "source": [
    "<<<<<<< local\n",
    "data_dir = '../data/multi-sample-multiome/'\n",
    "=======\n",
    "data_dir = 'multi-sample-multiome/'\n",
    ">>>>>>> remote"
   ]
  },
  {
   "cell_type": "code",
   "execution_count": 10,
   "metadata": {
    "local_metadata": {
     "ExecuteTime": {
      "end_time": "2021-02-13T22:02:02.670192Z",
      "start_time": "2021-02-13T22:01:52.181554Z"
     },
     "tags": []
    },
    "remote_metadata": {
     "ExecuteTime": {
      "end_time": "2021-02-13T22:02:02.670192Z",
      "start_time": "2021-02-13T22:01:52.181554Z"
     },
     "execution": {
      "iopub.execute_input": "2022-10-02T17:40:35.225335Z",
      "iopub.status.busy": "2022-10-02T17:40:35.225172Z",
      "iopub.status.idle": "2022-10-02T17:40:42.100043Z",
      "shell.execute_reply": "2022-10-02T17:40:42.099381Z",
      "shell.execute_reply.started": "2022-10-02T17:40:35.225315Z"
     },
     "tags": []
    }
   },
   "outputs": [],
   "source": [
    "# RNA and ATAC data\n",
    "samples = ['rep1', 'rep2']\n",
    "\n",
    "rna_ad_dict, atac_ad_dict = dict(), dict()\n",
    "for r in samples:\n",
    "    comb_ad = sc.read_10x_h5(data_dir + r + '/filtered_feature_bc_matrix.h5', gex_only=False)\n",
    "    # Use a name which is indicative of the data\n",
    "    comb_ad.obs_names = 'bm_multiome_' + r + '#'+ comb_ad.obs_names\n",
    "<<<<<<< local\n",
    "    comb_ad.uns['features'] = pd.read_csv(data_dir + \"features.tsv.gz\")\n",
    "=======\n",
    "    \n",
    ">>>>>>> remote\n",
    "    # RNA\n",
    "    rna_ad_dict[r] = comb_ad[:, comb_ad.var['feature_types'] == 'Gene Expression']\n",
    "    rna_ad_dict[r].var_names_make_unique()\n",
    "    rna_ad_dict[r].obs['sample'] = r\n",
    "    \n",
    "    # ATAC\n",
    "    atac_ad_dict[r] = comb_ad[:, comb_ad.var['feature_types'] == 'Peaks']\n",
    "    atac_ad_dict[r].var_names_make_unique()\n"
   ]
  },
  {
   "cell_type": "code",
   "execution_count": 11,
   "metadata": {
    "local_metadata": {
     "ExecuteTime": {
      "end_time": "2021-02-13T22:02:02.675419Z",
      "start_time": "2021-02-13T22:02:02.672623Z"
     },
     "tags": []
    },
    "remote_metadata": {
     "ExecuteTime": {
      "end_time": "2021-02-13T22:02:02.675419Z",
      "start_time": "2021-02-13T22:02:02.672623Z"
     },
     "execution": {
      "iopub.execute_input": "2022-10-02T17:40:42.101191Z",
      "iopub.status.busy": "2022-10-02T17:40:42.101057Z",
      "iopub.status.idle": "2022-10-02T17:40:42.103942Z",
      "shell.execute_reply": "2022-10-02T17:40:42.103481Z",
      "shell.execute_reply.started": "2022-10-02T17:40:42.101172Z"
     },
     "tags": []
    }
   },
   "outputs": [],
   "source": [
    "# Cells from each sample \n",
    "sample_cells = dict()\n",
    "for sample in samples:\n",
    "    sample_cells[sample] = rna_ad_dict[sample].obs_names"
   ]
  },
  {
   "cell_type": "code",
   "execution_count": 12,
   "metadata": {
    "local_metadata": {
     "ExecuteTime": {
      "end_time": "2021-02-13T22:02:09.683504Z",
      "start_time": "2021-02-13T22:02:02.677113Z"
     },
     "tags": []
    },
    "remote_metadata": {
     "ExecuteTime": {
      "end_time": "2021-02-13T22:02:09.683504Z",
      "start_time": "2021-02-13T22:02:02.677113Z"
     },
     "execution": {
      "iopub.execute_input": "2022-10-02T17:40:42.104581Z",
      "iopub.status.busy": "2022-10-02T17:40:42.104474Z",
      "iopub.status.idle": "2022-10-02T17:40:45.728369Z",
      "shell.execute_reply": "2022-10-02T17:40:45.727651Z",
      "shell.execute_reply.started": "2022-10-02T17:40:42.104568Z"
     },
     "tags": []
    }
   },
   "outputs": [],
   "source": [
    "# Per barcode metrics \n",
    "bc_metrics_dict = dict()\n",
    "for sample in samples:\n",
    "    bc_metrics_dict[sample] = pd.read_csv(data_dir + r + '/per_barcode_metrics.csv', index_col=0)\n",
    "    bc_metrics_dict[sample].index = 'bm_multiome_' + sample + '#' +bc_metrics_dict[sample].index \n",
    "    # FRIP\n",
    "    bc_metrics_dict[sample]['FRIP'] = bc_metrics_dict[sample]['atac_peak_region_fragments']/bc_metrics_dict[sample]['atac_fragments']\n",
    "    \n",
    "    # Update subset of cells\n",
    "    sample_cells[sample] = sample_cells[sample].intersection(bc_metrics_dict[sample].index)\n"
   ]
  },
  {
   "cell_type": "code",
   "execution_count": null,
   "metadata": {},
   "outputs": [],
   "source": []
  },
  {
   "cell_type": "markdown",
   "metadata": {},
   "source": [
    "# Preprocess"
   ]
  },
  {
   "cell_type": "markdown",
   "metadata": {},
   "source": [
    "## QC"
   ]
  },
  {
   "cell_type": "code",
   "execution_count": 13,
   "metadata": {
    "local_metadata": {
     "ExecuteTime": {
      "end_time": "2021-02-13T22:02:10.181217Z",
      "start_time": "2021-02-13T22:02:09.685871Z"
     },
     "tags": []
    },
    "remote_metadata": {
     "ExecuteTime": {
      "end_time": "2021-02-13T22:02:10.181217Z",
      "start_time": "2021-02-13T22:02:09.685871Z"
     },
     "execution": {
      "iopub.execute_input": "2022-10-02T17:40:45.729566Z",
      "iopub.status.busy": "2022-10-02T17:40:45.729432Z",
      "iopub.status.idle": "2022-10-02T17:40:46.168430Z",
      "shell.execute_reply": "2022-10-02T17:40:46.167813Z",
      "shell.execute_reply.started": "2022-10-02T17:40:45.729549Z"
     },
     "tags": []
    }
   },
   "outputs": [],
   "source": [
    "# QC metrics include mitochondrial fractions from scanpy \n",
    "for r in samples:\n",
    "    rna_ad = rna_ad_dict[r]\n",
    "    rna_ad.var['mt'] = rna_ad.var_names.str.startswith('MT-')\n",
    "    sc.pp.calculate_qc_metrics(rna_ad, qc_vars=['mt'], inplace=True, percent_top=None, log1p=False, )"
   ]
  },
  {
   "cell_type": "code",
   "execution_count": 14,
   "metadata": {
    "local_metadata": {
     "ExecuteTime": {
      "end_time": "2021-02-13T22:02:12.409719Z",
      "start_time": "2021-02-13T22:02:10.183122Z"
     },
     "tags": []
    },
    "remote_metadata": {
     "ExecuteTime": {
      "end_time": "2021-02-13T22:02:12.409719Z",
      "start_time": "2021-02-13T22:02:10.183122Z"
     },
     "execution": {
      "iopub.execute_input": "2022-10-02T17:40:46.169399Z",
      "iopub.status.busy": "2022-10-02T17:40:46.169269Z",
      "iopub.status.idle": "2022-10-02T17:40:48.557371Z",
      "shell.execute_reply": "2022-10-02T17:40:48.556780Z",
      "shell.execute_reply.started": "2022-10-02T17:40:46.169383Z"
     },
     "tags": []
    }
   },
   "outputs": [],
   "source": [
    "# QC metrics include mitochondrial fractions from scanpy \n",
    "for r in samples:\n",
    "    atac_ad = atac_ad_dict[r]\n",
    "    sc.pp.calculate_qc_metrics(atac_ad, inplace=True, percent_top=None, log1p=False, )"
   ]
  },
  {
   "cell_type": "markdown",
   "metadata": {},
   "source": [
    "### Filtering cells based on RNA"
   ]
  },
  {
   "cell_type": "code",
   "execution_count": 15,
   "metadata": {
    "local_metadata": {
     "ExecuteTime": {
      "end_time": "2021-02-13T22:02:12.769815Z",
      "start_time": "2021-02-13T22:02:12.411329Z"
     },
     "tags": []
    },
    "remote_metadata": {
     "ExecuteTime": {
      "end_time": "2021-02-13T22:02:12.769815Z",
      "start_time": "2021-02-13T22:02:12.411329Z"
     },
     "execution": {
      "iopub.execute_input": "2022-10-02T17:40:48.558236Z",
      "iopub.status.busy": "2022-10-02T17:40:48.558101Z",
      "iopub.status.idle": "2022-10-02T17:40:48.842053Z",
      "shell.execute_reply": "2022-10-02T17:40:48.841680Z",
      "shell.execute_reply.started": "2022-10-02T17:40:48.558220Z"
     },
     "tags": []
    }
   },
   "outputs": [],
   "source": [
    "fig = palantir.plot.FigureGrid(len(samples), 5)\n",
    "for sample, ax in zip (samples, fig):\n",
    "    rna_ad = rna_ad_dict[sample]\n",
    "    ax.hist(np.log10(rna_ad.obs['total_counts'][sample_cells[sample]]), 50)\n",
    "    ax.set_title(sample)\n",
    "sns.despine()\n",
    "plt.suptitle('log10 molecule counts')"
   ]
  },
  {
   "cell_type": "code",
   "execution_count": 16,
   "metadata": {
    "local_metadata": {
     "ExecuteTime": {
      "end_time": "2021-02-13T22:02:13.089856Z",
      "start_time": "2021-02-13T22:02:12.773192Z"
     },
     "tags": []
    },
    "remote_metadata": {
     "ExecuteTime": {
      "end_time": "2021-02-13T22:02:13.089856Z",
      "start_time": "2021-02-13T22:02:12.773192Z"
     },
     "execution": {
      "iopub.execute_input": "2022-10-02T17:40:48.842843Z",
      "iopub.status.busy": "2022-10-02T17:40:48.842695Z",
      "iopub.status.idle": "2022-10-02T17:40:49.207130Z",
      "shell.execute_reply": "2022-10-02T17:40:49.206775Z",
      "shell.execute_reply.started": "2022-10-02T17:40:48.842825Z"
     },
     "tags": []
    }
   },
   "outputs": [],
   "source": [
    "fig = palantir.plot.FigureGrid(len(samples), 5)\n",
    "for sample, ax in zip (samples, fig):\n",
    "    rna_ad = rna_ad_dict[sample]\n",
    "    THRESHOLDS = np.log10(np.percentile((rna_ad.obs['total_counts']), [2.5, 99.5]))\n",
    "    ax.hist(np.log10(rna_ad.obs['total_counts'][sample_cells[sample]]), 50)\n",
    "    ax.vlines(THRESHOLDS, ax.get_ylim()[0], ax.get_ylim()[1], color='black', linestyle='--')\n",
    "    ax.set_title(sample)\n",
    "sns.despine()\n",
    "plt.suptitle('log10 molecule counts')"
   ]
  },
  {
   "cell_type": "code",
   "execution_count": 17,
   "metadata": {
    "local_metadata": {
     "ExecuteTime": {
      "end_time": "2021-02-13T22:02:13.100383Z",
      "start_time": "2021-02-13T22:02:13.091503Z"
     },
     "tags": []
    },
    "remote_metadata": {
     "ExecuteTime": {
      "end_time": "2021-02-13T22:02:13.100383Z",
      "start_time": "2021-02-13T22:02:13.091503Z"
     },
     "execution": {
      "iopub.execute_input": "2022-10-02T17:40:49.207819Z",
      "iopub.status.busy": "2022-10-02T17:40:49.207690Z",
      "iopub.status.idle": "2022-10-02T17:40:49.217269Z",
      "shell.execute_reply": "2022-10-02T17:40:49.216910Z",
      "shell.execute_reply.started": "2022-10-02T17:40:49.207804Z"
     },
     "tags": []
    }
   },
   "outputs": [],
   "source": [
    "for sample, ax in zip (samples, fig):\n",
    "    rna_ad = rna_ad_dict[sample]\n",
    "    cells = sample_cells[sample]\n",
    "    \n",
    "    # Filter\n",
    "    THRESHOLDS = np.percentile((rna_ad.obs['total_counts']), [2.5, 99.5])\n",
    "    sample_cells[sample] = cells[(rna_ad.obs['total_counts'][cells] > THRESHOLDS[0]) & \\\n",
    "        (rna_ad.obs['total_counts'][cells] < THRESHOLDS[1])]"
   ]
  },
  {
   "cell_type": "code",
   "execution_count": 18,
   "metadata": {
    "local_metadata": {
     "ExecuteTime": {
      "end_time": "2021-02-13T22:02:13.431251Z",
      "start_time": "2021-02-13T22:02:13.102319Z"
     },
     "tags": []
    },
    "remote_metadata": {
     "ExecuteTime": {
      "end_time": "2021-02-13T22:02:13.431251Z",
      "start_time": "2021-02-13T22:02:13.102319Z"
     },
     "execution": {
      "iopub.execute_input": "2022-10-02T17:40:49.217991Z",
      "iopub.status.busy": "2022-10-02T17:40:49.217851Z",
      "iopub.status.idle": "2022-10-02T17:40:49.460602Z",
      "shell.execute_reply": "2022-10-02T17:40:49.460285Z",
      "shell.execute_reply.started": "2022-10-02T17:40:49.217974Z"
     },
     "tags": []
    }
   },
   "outputs": [],
   "source": [
    "fig = palantir.plot.FigureGrid(len(samples), 5)\n",
    "for sample, ax in zip (samples, fig):\n",
    "    rna_ad = rna_ad_dict[sample]\n",
    "    ax.hist(np.log10(rna_ad.obs['total_counts'][sample_cells[sample]]), 50)\n",
    "    ax.set_title(sample)\n",
    "sns.despine()\n",
    "plt.suptitle('log10 molecule counts')"
   ]
  },
  {
   "cell_type": "markdown",
   "metadata": {},
   "source": [
    "### Filtering based on ATAC"
   ]
  },
  {
   "cell_type": "code",
   "execution_count": 19,
   "metadata": {
    "local_metadata": {
     "ExecuteTime": {
      "end_time": "2021-02-13T22:02:13.982573Z",
      "start_time": "2021-02-13T22:02:13.433332Z"
     },
     "tags": []
    },
    "remote_metadata": {
     "ExecuteTime": {
      "end_time": "2021-02-13T22:02:13.982573Z",
      "start_time": "2021-02-13T22:02:13.433332Z"
     },
     "execution": {
      "iopub.execute_input": "2022-10-02T17:40:49.461191Z",
      "iopub.status.busy": "2022-10-02T17:40:49.461083Z",
      "iopub.status.idle": "2022-10-02T17:40:49.731374Z",
      "shell.execute_reply": "2022-10-02T17:40:49.731047Z",
      "shell.execute_reply.started": "2022-10-02T17:40:49.461178Z"
     },
     "tags": []
    }
   },
   "outputs": [],
   "source": [
    "## CAUTION: CellRanger peak calling is unreliable and we only use it here to filter cells with low \n",
    "##          fraction of reads in peaks. This is ok since CellRanger peak caller dramatically over estimates \n",
    "##          the peak widths. We might incur some false negatives, but thats an acceptable error for filtering   \n",
    "fig = palantir.plot.FigureGrid(len(samples), 5)\n",
    "for sample, ax in zip (samples, fig):\n",
    "    ax.hist(bc_metrics_dict[sample]['FRIP'][sample_cells[sample]], 50)\n",
    "    ax.set_title(sample)\n",
    "sns.despine()\n",
    "plt.suptitle('Fraction of reads in peaks')"
   ]
  },
  {
   "cell_type": "code",
   "execution_count": 20,
   "metadata": {
    "local_metadata": {
     "ExecuteTime": {
      "end_time": "2021-02-13T22:02:13.992103Z",
      "start_time": "2021-02-13T22:02:13.984535Z"
     },
     "tags": []
    },
    "remote_metadata": {
     "ExecuteTime": {
      "end_time": "2021-02-13T22:02:13.992103Z",
      "start_time": "2021-02-13T22:02:13.984535Z"
     },
     "execution": {
      "iopub.execute_input": "2022-10-02T17:41:24.976998Z",
      "iopub.status.busy": "2022-10-02T17:41:24.976616Z",
      "iopub.status.idle": "2022-10-02T17:41:24.997363Z",
      "shell.execute_reply": "2022-10-02T17:41:24.996652Z",
      "shell.execute_reply.started": "2022-10-02T17:41:24.976950Z"
     }
    }
   },
   "outputs": [],
   "source": [
    "# Given the uneven distribution, we will skip filtering by ATAC here.\n",
    "THRESHOLD = 00\n",
    "for sample in samples:\n",
    "    sample_cells[sample] = sample_cells[sample][bc_metrics_dict[sample]['FRIP'][sample_cells[sample]] > THRESHOLD]"
   ]
  },
  {
   "cell_type": "code",
   "execution_count": 21,
   "metadata": {
    "local_metadata": {
     "ExecuteTime": {
      "end_time": "2021-02-13T22:02:14.311009Z",
      "start_time": "2021-02-13T22:02:13.994054Z"
     },
     "tags": []
    },
    "remote_metadata": {
     "ExecuteTime": {
      "end_time": "2021-02-13T22:02:14.311009Z",
      "start_time": "2021-02-13T22:02:13.994054Z"
     },
     "execution": {
      "iopub.execute_input": "2022-10-02T17:41:26.140218Z",
      "iopub.status.busy": "2022-10-02T17:41:26.140073Z",
      "iopub.status.idle": "2022-10-02T17:41:26.417418Z",
      "shell.execute_reply": "2022-10-02T17:41:26.417095Z",
      "shell.execute_reply.started": "2022-10-02T17:41:26.140201Z"
     }
    }
   },
   "outputs": [],
   "source": [
    "fig = palantir.plot.FigureGrid(len(samples), 5)\n",
    "for sample, ax in zip (samples, fig):\n",
    "    rna_ad = rna_ad_dict[sample]\n",
    "    ax.hist(np.log10(rna_ad.obs['total_counts'][sample_cells[sample]]), 50)\n",
    "    ax.set_title(sample)\n",
    "sns.despine()\n",
    "plt.suptitle('log10 molecule counts')"
   ]
  },
  {
   "cell_type": "markdown",
   "metadata": {},
   "source": [
    "### Filter based on mitochondria"
   ]
  },
  {
   "cell_type": "code",
   "execution_count": null,
   "metadata": {
    "local_metadata": {
     "ExecuteTime": {
      "end_time": "2021-02-13T22:02:16.488850Z",
      "start_time": "2021-02-13T22:02:14.314231Z"
     },
     "tags": []
    },
    "remote_metadata": {
     "ExecuteTime": {
      "end_time": "2021-02-13T22:02:16.488850Z",
      "start_time": "2021-02-13T22:02:14.314231Z"
     },
     "execution": {
      "iopub.execute_input": "2022-10-02T17:41:40.116207Z",
      "iopub.status.busy": "2022-10-02T17:41:40.115864Z",
      "iopub.status.idle": "2022-10-02T17:41:41.379844Z",
      "shell.execute_reply": "2022-10-02T17:41:41.379513Z",
      "shell.execute_reply.started": "2022-10-02T17:41:40.116165Z"
     },
     "tags": []
    }
   },
   "outputs": [],
   "source": [
    "# Mitochondrial fractions compared to total molecules (colored by density)\n",
    "MITO_THRESHOLD = 30\n",
    "fig = palantir.plot.FigureGrid(len(samples), 5)\n",
    "for sample, ax in zip(samples, fig):\n",
    "    rna_ad = rna_ad_dict[sample]\n",
    "    \n",
    "    # Density \n",
    "    x,y,dens = palantir.plot.density_2d(rna_ad.obs['total_counts'][sample_cells[sample]], \n",
    "               rna_ad.obs['pct_counts_mt'][sample_cells[sample]])\n",
    "    \n",
    "    ax.scatter(x, y, c=dens, s=5)\n",
    "    ax.hlines(MITO_THRESHOLD, ax.get_xlim()[0], ax.get_xlim()[1], color='black', linestyle='--')\n",
    "    ax.set_title(sample)\n",
    "sns.despine()\n",
    "\n"
   ]
  },
  {
   "cell_type": "code",
   "execution_count": null,
   "metadata": {
    "local_metadata": {
     "ExecuteTime": {
      "end_time": "2021-02-13T22:02:16.500195Z",
      "start_time": "2021-02-13T22:02:16.491564Z"
     },
     "tags": []
    },
    "remote_metadata": {
     "ExecuteTime": {
      "end_time": "2021-02-13T22:02:16.500195Z",
      "start_time": "2021-02-13T22:02:16.491564Z"
     },
     "execution": {
      "iopub.execute_input": "2022-10-02T17:41:42.420346Z",
      "iopub.status.busy": "2022-10-02T17:41:42.420223Z",
      "iopub.status.idle": "2022-10-02T17:41:42.425338Z",
      "shell.execute_reply": "2022-10-02T17:41:42.425018Z",
      "shell.execute_reply.started": "2022-10-02T17:41:42.420332Z"
     }
    }
   },
   "outputs": [],
   "source": [
    "for sample in samples:\n",
    "    cells = sample_cells[sample]\n",
    "    sample_cells[sample] = cells[rna_ad_dict[sample].obs['pct_counts_mt'][cells] < MITO_THRESHOLD]"
   ]
  },
  {
   "cell_type": "markdown",
   "metadata": {},
   "source": [
    "## Combine samples "
   ]
  },
  {
   "cell_type": "code",
   "execution_count": null,
   "metadata": {
    "local_metadata": {
     "ExecuteTime": {
      "end_time": "2021-02-13T22:04:15.043187Z",
      "start_time": "2021-02-13T22:04:14.620418Z"
     },
     "tags": []
    },
    "remote_metadata": {
     "ExecuteTime": {
      "end_time": "2021-02-13T22:04:15.043187Z",
      "start_time": "2021-02-13T22:04:14.620418Z"
     },
     "execution": {
      "iopub.execute_input": "2022-10-02T17:41:45.824936Z",
      "iopub.status.busy": "2022-10-02T17:41:45.824600Z",
      "iopub.status.idle": "2022-10-02T17:41:46.101023Z",
      "shell.execute_reply": "2022-10-02T17:41:46.100504Z",
      "shell.execute_reply.started": "2022-10-02T17:41:45.824894Z"
     }
    }
   },
   "outputs": [],
   "source": [
    "sample = samples[0]\n",
    "ad = rna_ad_dict[sample][sample_cells[sample]]\n",
    "for sample in samples[1:]:\n",
    "    ad = ad.concatenate(rna_ad_dict[sample][sample_cells[sample]], \n",
    "                            index_unique=None, batch_key='batch')\n",
    "ad"
   ]
  },
  {
   "cell_type": "code",
   "execution_count": null,
   "metadata": {
    "local_metadata": {
     "ExecuteTime": {
      "end_time": "2021-02-13T22:04:16.282750Z",
      "start_time": "2021-02-13T22:04:16.274774Z"
     },
     "tags": []
    },
    "remote_metadata": {
     "ExecuteTime": {
      "end_time": "2021-02-13T22:04:16.282750Z",
      "start_time": "2021-02-13T22:04:16.274774Z"
     },
     "execution": {
      "iopub.execute_input": "2022-10-02T17:41:46.910392Z",
      "iopub.status.busy": "2022-10-02T17:41:46.910043Z",
      "iopub.status.idle": "2022-10-02T17:41:46.920731Z",
      "shell.execute_reply": "2022-10-02T17:41:46.920246Z",
      "shell.execute_reply.started": "2022-10-02T17:41:46.910349Z"
     }
    }
   },
   "outputs": [],
   "source": [
    "# Clean up var object\n",
    "ad.var = pd.DataFrame(index=ad.var_names)"
   ]
  },
  {
   "cell_type": "code",
   "execution_count": null,
   "metadata": {
    "local_metadata": {
     "ExecuteTime": {
      "end_time": "2021-02-13T22:04:17.237266Z",
      "start_time": "2021-02-13T22:04:16.642794Z"
     },
     "tags": []
    },
    "remote_metadata": {
     "ExecuteTime": {
      "end_time": "2021-02-13T22:04:17.237266Z",
      "start_time": "2021-02-13T22:04:16.642794Z"
     },
     "execution": {
      "iopub.execute_input": "2022-10-02T17:41:47.467688Z",
      "iopub.status.busy": "2022-10-02T17:41:47.467567Z",
      "iopub.status.idle": "2022-10-02T17:41:47.859410Z",
      "shell.execute_reply": "2022-10-02T17:41:47.858639Z",
      "shell.execute_reply.started": "2022-10-02T17:41:47.467673Z"
     }
    }
   },
   "outputs": [],
   "source": [
    "# Filter cells\n",
    "sc.pp.filter_genes(ad, min_cells=50)"
   ]
  },
  {
   "cell_type": "code",
   "execution_count": null,
   "metadata": {
    "local_metadata": {
     "ExecuteTime": {
      "end_time": "2021-02-13T22:04:17.243202Z",
      "start_time": "2021-02-13T22:04:17.239087Z"
     },
     "tags": []
    },
    "remote_metadata": {
     "ExecuteTime": {
      "end_time": "2021-02-13T22:04:17.243202Z",
      "start_time": "2021-02-13T22:04:17.239087Z"
     },
     "execution": {
      "iopub.execute_input": "2022-10-02T17:41:47.864247Z",
      "iopub.status.busy": "2022-10-02T17:41:47.864115Z",
      "iopub.status.idle": "2022-10-02T17:41:47.867719Z",
      "shell.execute_reply": "2022-10-02T17:41:47.867185Z",
      "shell.execute_reply.started": "2022-10-02T17:41:47.864232Z"
     }
    }
   },
   "outputs": [],
   "source": [
    "ad"
   ]
  },
  {
   "cell_type": "code",
   "execution_count": null,
   "metadata": {
    "local_metadata": {
     "ExecuteTime": {
      "end_time": "2021-02-13T22:04:17.369861Z",
      "start_time": "2021-02-13T22:04:17.245316Z"
     },
     "tags": []
    },
    "remote_metadata": {
     "ExecuteTime": {
      "end_time": "2021-02-13T22:04:17.369861Z",
      "start_time": "2021-02-13T22:04:17.245316Z"
     },
     "execution": {
      "iopub.execute_input": "2022-10-02T17:41:52.044928Z",
      "iopub.status.busy": "2022-10-02T17:41:52.044538Z",
      "iopub.status.idle": "2022-10-02T17:41:52.134491Z",
      "shell.execute_reply": "2022-10-02T17:41:52.133422Z",
      "shell.execute_reply.started": "2022-10-02T17:41:52.044882Z"
     }
    }
   },
   "outputs": [],
   "source": [
    "raw_ad = ad.copy()"
   ]
  },
  {
   "cell_type": "markdown",
   "metadata": {},
   "source": [
    "### Doublet scores  (post filtering)"
   ]
  },
  {
   "cell_type": "code",
   "execution_count": null,
   "metadata": {
    "local_metadata": {
     "ExecuteTime": {
      "end_time": "2021-02-13T22:04:18.454751Z",
      "start_time": "2021-02-13T22:04:18.450578Z"
     },
     "tags": []
    },
    "remote_metadata": {
     "ExecuteTime": {
      "end_time": "2021-02-13T22:04:18.454751Z",
      "start_time": "2021-02-13T22:04:18.450578Z"
     },
     "execution": {
      "iopub.execute_input": "2022-10-02T17:41:54.500851Z",
      "iopub.status.busy": "2022-10-02T17:41:54.500721Z",
      "iopub.status.idle": "2022-10-02T17:41:54.557581Z",
      "shell.execute_reply": "2022-10-02T17:41:54.556755Z",
      "shell.execute_reply.started": "2022-10-02T17:41:54.500836Z"
     }
    }
   },
   "outputs": [],
   "source": [
    "# Install scrublet using `pip install scrublet`\n",
    "import scrublet as scr"
   ]
  },
  {
   "cell_type": "code",
   "execution_count": null,
   "metadata": {
    "local_metadata": {
     "ExecuteTime": {
      "end_time": "2021-02-13T22:04:44.209447Z",
      "start_time": "2021-02-13T22:04:21.116760Z"
     },
     "tags": []
    },
    "remote_metadata": {
     "ExecuteTime": {
      "end_time": "2021-02-13T22:04:44.209447Z",
      "start_time": "2021-02-13T22:04:21.116760Z"
     },
     "execution": {
      "iopub.execute_input": "2022-10-02T17:41:54.843354Z",
      "iopub.status.busy": "2022-10-02T17:41:54.843009Z",
      "iopub.status.idle": "2022-10-02T17:42:06.031232Z",
      "shell.execute_reply": "2022-10-02T17:42:06.030608Z",
      "shell.execute_reply.started": "2022-10-02T17:41:54.843312Z"
     }
    }
   },
   "outputs": [],
   "source": [
    "doublet_scores = pd.Series(0.0, index=ad.obs_names)\n",
    "\n",
    "for sample in samples:\n",
    "    cells = ad.obs_names[ad.obs['sample'] == sample]\n",
    "    scrub = scr.Scrublet(raw_ad[cells, :].X)\n",
    "    scores, predicted_doublets = scrub.scrub_doublets()\n",
    "    doublet_scores[cells] = scores\n",
    "\n",
    "ad.obs['DoubletScores'] = doublet_scores.values"
   ]
  },
  {
   "cell_type": "markdown",
   "metadata": {},
   "source": [
    "## Analysis"
   ]
  },
  {
   "cell_type": "code",
   "execution_count": null,
   "metadata": {
    "local_metadata": {
     "ExecuteTime": {
      "end_time": "2021-02-13T22:04:44.839716Z",
      "start_time": "2021-02-13T22:04:44.211563Z"
     },
     "tags": []
    },
    "remote_metadata": {
     "ExecuteTime": {
      "end_time": "2021-02-13T22:04:44.839716Z",
      "start_time": "2021-02-13T22:04:44.211563Z"
     },
     "execution": {
      "iopub.execute_input": "2022-10-02T17:42:09.126011Z",
      "iopub.status.busy": "2022-10-02T17:42:09.125645Z",
      "iopub.status.idle": "2022-10-02T17:42:09.453227Z",
      "shell.execute_reply": "2022-10-02T17:42:09.452441Z",
      "shell.execute_reply.started": "2022-10-02T17:42:09.125958Z"
     }
    }
   },
   "outputs": [],
   "source": [
    "# Normalize and log transform\n",
    "sc.pp.normalize_per_cell(ad)\n",
    "log_transform(ad)"
   ]
  },
  {
   "cell_type": "code",
   "execution_count": null,
   "metadata": {
    "local_metadata": {
     "ExecuteTime": {
      "end_time": "2021-02-13T22:04:46.222440Z",
      "start_time": "2021-02-13T22:04:44.841768Z"
     },
     "tags": []
    },
    "remote_metadata": {
     "ExecuteTime": {
      "end_time": "2021-02-13T22:04:46.222440Z",
      "start_time": "2021-02-13T22:04:44.841768Z"
     },
     "execution": {
      "iopub.execute_input": "2022-10-02T17:45:21.925907Z",
      "iopub.status.busy": "2022-10-02T17:45:21.925519Z",
      "iopub.status.idle": "2022-10-02T17:45:22.311195Z",
      "shell.execute_reply": "2022-10-02T17:45:22.310679Z",
      "shell.execute_reply.started": "2022-10-02T17:45:21.925865Z"
     },
     "tags": []
    }
   },
   "outputs": [],
   "source": [
    "# Highly variable genes [Num. of genes is a paramter, typically 1.5-2.5k genes work well]\n",
    "sc.pp.highly_variable_genes(ad, flavor='cell_ranger', n_top_genes=1500)\n",
    "ad"
   ]
  },
  {
   "cell_type": "code",
   "execution_count": null,
   "metadata": {
    "local_metadata": {
     "ExecuteTime": {
      "end_time": "2021-02-13T22:04:49.911016Z",
      "start_time": "2021-02-13T22:04:46.224291Z"
     },
     "tags": []
    },
    "remote_metadata": {
     "ExecuteTime": {
      "end_time": "2021-02-13T22:04:49.911016Z",
      "start_time": "2021-02-13T22:04:46.224291Z"
     },
     "execution": {
      "iopub.execute_input": "2022-10-02T17:45:22.312262Z",
      "iopub.status.busy": "2022-10-02T17:45:22.312093Z",
      "iopub.status.idle": "2022-10-02T17:45:22.949099Z",
      "shell.execute_reply": "2022-10-02T17:45:22.948716Z",
      "shell.execute_reply.started": "2022-10-02T17:45:22.312242Z"
     },
     "tags": []
    }
   },
   "outputs": [],
   "source": [
    "# PCA\n",
    "# 50 comps is an approxmiation here - choose number of components by knee point or fraction of explained variance\n",
    "n_comps = 50\n",
    "sc.pp.pca(ad, use_highly_variable=True, n_comps=n_comps)"
   ]
  },
  {
   "cell_type": "code",
   "execution_count": null,
   "metadata": {
    "local_metadata": {
     "ExecuteTime": {
      "end_time": "2021-02-13T22:05:24.827501Z",
      "start_time": "2021-02-13T22:04:49.912956Z"
     },
     "tags": []
    },
    "remote_metadata": {
     "ExecuteTime": {
      "end_time": "2021-02-13T22:05:24.827501Z",
      "start_time": "2021-02-13T22:04:49.912956Z"
     },
     "execution": {
      "iopub.execute_input": "2022-10-02T17:45:22.950116Z",
      "iopub.status.busy": "2022-10-02T17:45:22.949841Z",
      "iopub.status.idle": "2022-10-02T17:45:33.547131Z",
      "shell.execute_reply": "2022-10-02T17:45:33.546593Z",
      "shell.execute_reply.started": "2022-10-02T17:45:22.950097Z"
     },
     "tags": []
    }
   },
   "outputs": [],
   "source": [
    "# UMAP and Leiden - requires the computation of nearest neighbors\n",
    "# Ignore numba warnings in neighborhood computation\n",
    "warnings.filterwarnings('ignore')\n",
    "sc.pp.neighbors(ad, use_rep='X_pca')\n",
    "warnings.filterwarnings('default')\n",
    "sc.tl.umap(ad)\n",
    "sc.tl.leiden(ad)\n",
    "ad"
   ]
  },
  {
   "cell_type": "code",
   "execution_count": null,
   "metadata": {
    "local_metadata": {
     "ExecuteTime": {
      "end_time": "2021-02-13T22:05:30.463743Z",
      "start_time": "2021-02-13T22:05:24.829966Z"
     },
     "tags": []
    },
    "remote_metadata": {
     "ExecuteTime": {
      "end_time": "2021-02-13T22:05:30.463743Z",
      "start_time": "2021-02-13T22:05:24.829966Z"
     },
     "execution": {
      "iopub.execute_input": "2022-10-02T17:45:33.548074Z",
      "iopub.status.busy": "2022-10-02T17:45:33.547939Z",
      "iopub.status.idle": "2022-10-02T17:45:35.987012Z",
      "shell.execute_reply": "2022-10-02T17:45:35.986669Z",
      "shell.execute_reply.started": "2022-10-02T17:45:33.548059Z"
     },
     "tags": []
    }
   },
   "outputs": [],
   "source": [
    "# Diffusion maps \n",
    "warnings.filterwarnings('ignore')\n",
    "dm_res = palantir.utils.run_diffusion_maps(pd.DataFrame(ad.obsm['X_pca'], index=ad.obs_names))\n",
    "warnings.filterwarnings('default')\n",
    "ad.obsp['DM_Kernel'] = dm_res['kernel']\n",
    "ad.obsm['DM_EigenVectors'] = dm_res['EigenVectors'].values\n",
    "ad.uns['DMEigenValues'] = dm_res['EigenValues'].values\n",
    "ad"
   ]
  },
  {
   "cell_type": "code",
   "execution_count": null,
   "metadata": {
    "local_metadata": {
     "ExecuteTime": {
      "end_time": "2021-02-13T22:07:59.023950Z",
      "start_time": "2021-02-13T22:05:30.468195Z"
     },
     "tags": []
    },
    "remote_metadata": {
     "ExecuteTime": {
      "end_time": "2021-02-13T22:07:59.023950Z",
      "start_time": "2021-02-13T22:05:30.468195Z"
     },
     "execution": {
      "iopub.execute_input": "2022-10-02T17:45:35.987912Z",
      "iopub.status.busy": "2022-10-02T17:45:35.987668Z",
      "iopub.status.idle": "2022-10-02T17:46:56.810062Z",
      "shell.execute_reply": "2022-10-02T17:46:56.809384Z",
      "shell.execute_reply.started": "2022-10-02T17:45:35.987892Z"
     },
     "tags": []
    }
   },
   "outputs": [],
   "source": [
    "# Force directed layout\n",
    "ad.obsm['X_FDL'] = harmony.plot.force_directed_layout(dm_res['kernel']).values"
   ]
  },
  {
   "cell_type": "code",
   "execution_count": null,
   "metadata": {
    "local_metadata": {
     "ExecuteTime": {
      "end_time": "2021-02-13T22:09:12.971864Z",
      "start_time": "2021-02-13T22:08:18.428054Z"
     },
     "tags": []
    },
    "remote_metadata": {
     "ExecuteTime": {
      "end_time": "2021-02-13T22:09:12.971864Z",
      "start_time": "2021-02-13T22:08:18.428054Z"
     },
     "execution": {
      "iopub.execute_input": "2022-10-02T17:46:56.811210Z",
      "iopub.status.busy": "2022-10-02T17:46:56.811032Z",
      "iopub.status.idle": "2022-10-02T17:47:24.680173Z",
      "shell.execute_reply": "2022-10-02T17:47:24.679544Z",
      "shell.execute_reply.started": "2022-10-02T17:46:56.811185Z"
     },
     "tags": []
    }
   },
   "outputs": [],
   "source": [
    "# Imputation\n",
    "from scipy.sparse import csr_matrix\n",
    "ad.layers['MAGIC_imputed_data'] = csr_matrix(impute_data(dm_res, ad))"
   ]
  },
  {
   "cell_type": "code",
   "execution_count": null,
   "metadata": {},
   "outputs": [],
   "source": []
  },
  {
   "cell_type": "markdown",
   "metadata": {},
   "source": [
    "# Visualize results"
   ]
  },
  {
   "cell_type": "code",
   "execution_count": null,
   "metadata": {
    "local_metadata": {
     "ExecuteTime": {
      "end_time": "2021-02-13T22:09:12.978816Z",
      "start_time": "2021-02-13T22:09:12.973958Z"
     },
     "tags": []
    },
    "remote_metadata": {
     "ExecuteTime": {
      "end_time": "2021-02-13T22:09:12.978816Z",
      "start_time": "2021-02-13T22:09:12.973958Z"
     },
     "execution": {
      "iopub.execute_input": "2022-10-02T17:47:24.681613Z",
      "iopub.status.busy": "2022-10-02T17:47:24.681473Z",
      "iopub.status.idle": "2022-10-02T17:47:24.684693Z",
      "shell.execute_reply": "2022-10-02T17:47:24.684226Z",
      "shell.execute_reply.started": "2022-10-02T17:47:24.681594Z"
     },
     "tags": []
    }
   },
   "outputs": [],
   "source": [
    "ad.obs['log_n_counts'] = np.log10(ad.obs['total_counts'])"
   ]
  },
  {
   "cell_type": "markdown",
   "metadata": {},
   "source": [
    "Note that in the sample the two samples coincide very clearly indicating that there is no batch effect. This is completely expected since the two replicates were generated using cells from the same individual. Separation of cells based on sample here is a good diagnostic for batch effects"
   ]
  },
  {
   "cell_type": "code",
   "execution_count": null,
   "metadata": {
    "local_metadata": {
     "ExecuteTime": {
      "end_time": "2021-02-13T22:09:13.464516Z",
      "start_time": "2021-02-13T22:09:12.980939Z"
     },
     "tags": []
    },
    "remote_metadata": {
     "ExecuteTime": {
      "end_time": "2021-02-13T22:09:13.464516Z",
      "start_time": "2021-02-13T22:09:12.980939Z"
     },
     "execution": {
      "iopub.execute_input": "2022-10-02T17:47:24.685559Z",
      "iopub.status.busy": "2022-10-02T17:47:24.685447Z",
      "iopub.status.idle": "2022-10-02T17:47:24.992050Z",
      "shell.execute_reply": "2022-10-02T17:47:24.991483Z",
      "shell.execute_reply.started": "2022-10-02T17:47:24.685546Z"
     },
     "tags": []
    }
   },
   "outputs": [],
   "source": [
    "sc.pl.scatter(ad, basis='umap', color=['log_n_counts', 'DoubletScores', 'sample'], frameon=False)"
   ]
  },
  {
   "cell_type": "code",
   "execution_count": null,
   "metadata": {
    "local_metadata": {
     "ExecuteTime": {
      "end_time": "2021-02-13T22:09:13.816202Z",
      "start_time": "2021-02-13T22:09:13.466158Z"
     },
     "tags": []
    },
    "remote_metadata": {
     "ExecuteTime": {
      "end_time": "2021-02-13T22:09:13.816202Z",
      "start_time": "2021-02-13T22:09:13.466158Z"
     },
     "execution": {
      "iopub.execute_input": "2022-10-02T17:47:24.992875Z",
      "iopub.status.busy": "2022-10-02T17:47:24.992736Z",
      "iopub.status.idle": "2022-10-02T17:47:25.277421Z",
      "shell.execute_reply": "2022-10-02T17:47:25.276982Z",
      "shell.execute_reply.started": "2022-10-02T17:47:24.992858Z"
     },
     "tags": []
    }
   },
   "outputs": [],
   "source": [
    "sc.pl.scatter(ad, basis='FDL', color=['log_n_counts', 'DoubletScores', 'sample'], frameon=False)"
   ]
  },
  {
   "cell_type": "code",
   "execution_count": null,
   "metadata": {
    "local_metadata": {
     "ExecuteTime": {
      "end_time": "2021-02-13T22:09:14.156544Z",
      "start_time": "2021-02-13T22:09:13.818605Z"
     },
     "tags": []
    },
    "remote_metadata": {
     "ExecuteTime": {
      "end_time": "2021-02-13T22:09:14.156544Z",
      "start_time": "2021-02-13T22:09:13.818605Z"
     },
     "execution": {
      "iopub.execute_input": "2022-10-02T17:47:25.278135Z",
      "iopub.status.busy": "2022-10-02T17:47:25.278017Z",
      "iopub.status.idle": "2022-10-02T17:47:25.514139Z",
      "shell.execute_reply": "2022-10-02T17:47:25.513760Z",
      "shell.execute_reply.started": "2022-10-02T17:47:25.278122Z"
     },
     "tags": []
    }
   },
   "outputs": [],
   "source": [
    "sc.pl.scatter(ad, basis='umap', color=['leiden'], frameon=False)"
   ]
  },
  {
   "cell_type": "code",
   "execution_count": null,
   "metadata": {
    "local_metadata": {
     "ExecuteTime": {
      "end_time": "2021-02-13T22:09:14.461749Z",
      "start_time": "2021-02-13T22:09:14.159027Z"
     },
     "tags": []
    },
    "remote_metadata": {
     "ExecuteTime": {
      "end_time": "2021-02-13T22:09:14.461749Z",
      "start_time": "2021-02-13T22:09:14.159027Z"
     },
     "execution": {
      "iopub.execute_input": "2022-10-02T17:47:25.514817Z",
      "iopub.status.busy": "2022-10-02T17:47:25.514700Z",
      "iopub.status.idle": "2022-10-02T17:47:25.714435Z",
      "shell.execute_reply": "2022-10-02T17:47:25.714107Z",
      "shell.execute_reply.started": "2022-10-02T17:47:25.514802Z"
     },
     "tags": []
    }
   },
   "outputs": [],
   "source": [
    "sc.pl.scatter(ad, basis='FDL', color=['leiden'], frameon=False)"
   ]
  },
  {
   "cell_type": "markdown",
   "metadata": {},
   "source": [
    "# Celltype annotation"
   ]
  },
  {
   "cell_type": "code",
   "execution_count": null,
   "metadata": {
    "local_metadata": {
     "ExecuteTime": {
      "end_time": "2021-02-13T22:14:03.964950Z",
      "start_time": "2021-02-13T22:14:03.961945Z"
     },
     "tags": []
    },
    "remote_metadata": {
     "ExecuteTime": {
      "end_time": "2021-02-13T22:14:03.964950Z",
      "start_time": "2021-02-13T22:14:03.961945Z"
     },
     "execution": {
      "iopub.execute_input": "2022-10-02T17:47:25.715055Z",
      "iopub.status.busy": "2022-10-02T17:47:25.714948Z",
      "iopub.status.idle": "2022-10-02T17:47:25.717332Z",
      "shell.execute_reply": "2022-10-02T17:47:25.717016Z",
      "shell.execute_reply.started": "2022-10-02T17:47:25.715042Z"
     }
    }
   },
   "outputs": [],
   "source": [
    "marker_dict = {'HSPC': ['CD34'], \n",
    "               'CLP/Bcells': [\"CD79B\", \"EBF1\", \"PAX5\"],\n",
    "               'B cells': [\"CD19\"], \n",
    "               'Ery': ['GATA1', 'GATA2'], \n",
    "               'DC': ['IRF4', 'IRF8'],\n",
    "               'Mono': ['MPO'],\n",
    "               'Megakaryocyte': ['ITGA2B'], \n",
    "              }"
   ]
  },
  {
   "cell_type": "code",
   "execution_count": null,
   "metadata": {
    "local_metadata": {
     "ExecuteTime": {
      "end_time": "2021-02-13T22:14:04.754467Z",
      "start_time": "2021-02-13T22:14:04.209730Z"
     },
     "tags": []
    },
    "remote_metadata": {
     "ExecuteTime": {
      "end_time": "2021-02-13T22:14:04.754467Z",
      "start_time": "2021-02-13T22:14:04.209730Z"
     },
     "execution": {
      "iopub.execute_input": "2022-10-02T17:47:25.717925Z",
      "iopub.status.busy": "2022-10-02T17:47:25.717816Z",
      "iopub.status.idle": "2022-10-02T17:47:26.139369Z",
      "shell.execute_reply": "2022-10-02T17:47:26.138862Z",
      "shell.execute_reply.started": "2022-10-02T17:47:25.717912Z"
     }
    }
   },
   "outputs": [],
   "source": [
    "sc.pl.dotplot(ad, marker_dict, 'leiden', dendrogram=True)"
   ]
  },
  {
   "cell_type": "code",
   "execution_count": null,
   "metadata": {},
   "outputs": [],
   "source": []
  },
  {
   "cell_type": "code",
   "execution_count": null,
   "metadata": {},
   "outputs": [],
   "source": []
  },
  {
   "cell_type": "code",
   "execution_count": null,
   "metadata": {
    "local_metadata": {
     "ExecuteTime": {
      "end_time": "2021-02-13T22:14:17.976876Z",
      "start_time": "2021-02-13T22:14:17.969408Z"
     },
     "tags": []
    },
    "remote_metadata": {
     "ExecuteTime": {
      "end_time": "2021-02-13T22:14:17.976876Z",
      "start_time": "2021-02-13T22:14:17.969408Z"
     },
     "execution": {
      "iopub.execute_input": "2022-10-02T17:47:26.140140Z",
      "iopub.status.busy": "2022-10-02T17:47:26.140018Z",
      "iopub.status.idle": "2022-10-02T17:47:26.144938Z",
      "shell.execute_reply": "2022-10-02T17:47:26.144419Z",
      "shell.execute_reply.started": "2022-10-02T17:47:26.140125Z"
     }
    }
   },
   "outputs": [],
   "source": [
    "genes = pd.Series([\n",
    "    \"CD34\", \"CD38\", # HSPC\n",
    "    \"CD79B\", \"EBF1\", \"PAX5\", # CLP / B cell lineage \n",
    "    \"CD19\", \"CD20\", # Mature B cell markers\n",
    "    \"GATA1\",  # Erythroid lineage\n",
    "    \"IRF8\", # DC lineage\n",
    "    \"MPO\", # Monocyte lineage\n",
    "    \"ITGA2B\", #CD41 - Megakaryocyte,     \n",
    "])\n",
    "genes = genes[genes.isin(ad.var_names)]"
   ]
  },
  {
   "cell_type": "code",
   "execution_count": null,
   "metadata": {
    "local_metadata": {
     "ExecuteTime": {
      "end_time": "2021-02-13T22:14:20.915812Z",
      "start_time": "2021-02-13T22:14:18.274160Z"
     },
     "tags": []
    },
    "remote_metadata": {
     "ExecuteTime": {
      "end_time": "2021-02-13T22:14:20.915812Z",
      "start_time": "2021-02-13T22:14:18.274160Z"
     },
     "execution": {
      "iopub.execute_input": "2022-10-02T17:50:17.606398Z",
      "iopub.status.busy": "2022-10-02T17:50:17.606000Z",
      "iopub.status.idle": "2022-10-02T17:50:20.724795Z",
      "shell.execute_reply": "2022-10-02T17:50:20.723746Z",
      "shell.execute_reply.started": "2022-10-02T17:50:17.606353Z"
     },
     "tags": []
    }
   },
   "outputs": [],
   "source": [
    "sc.pl.embedding(ad, basis='umap', color=genes, \n",
    "                layer='MAGIC_imputed_data', frameon=False) "
   ]
  },
  {
   "cell_type": "code",
   "execution_count": null,
   "metadata": {},
   "outputs": [],
   "source": []
  },
  {
   "cell_type": "code",
   "execution_count": null,
   "metadata": {},
   "outputs": [],
   "source": []
  },
  {
   "cell_type": "markdown",
   "metadata": {},
   "source": [
    "# Save"
   ]
  },
  {
   "cell_type": "code",
   "execution_count": null,
   "metadata": {
    "local_metadata": {
     "ExecuteTime": {
      "end_time": "2021-02-13T22:18:43.953387Z",
      "start_time": "2021-02-13T22:18:43.498454Z"
     },
     "tags": []
    },
    "remote_metadata": {
     "ExecuteTime": {
      "end_time": "2021-02-13T22:18:43.953387Z",
      "start_time": "2021-02-13T22:18:43.498454Z"
     },
     "execution": {
      "iopub.execute_input": "2022-10-02T17:50:23.820400Z",
      "iopub.status.busy": "2022-10-02T17:50:23.820007Z",
      "iopub.status.idle": "2022-10-02T17:50:24.122429Z",
      "shell.execute_reply": "2022-10-02T17:50:24.121857Z",
      "shell.execute_reply.started": "2022-10-02T17:50:23.820355Z"
     },
     "tags": []
    }
   },
   "outputs": [],
   "source": [
    "# Attach raw counts\n",
    "ad.raw = sc.AnnData(raw_ad[ad.obs_names, :][:, ad.var_names].X)"
   ]
  },
  {
   "cell_type": "code",
   "execution_count": null,
   "metadata": {
    "local_metadata": {
     "ExecuteTime": {
      "start_time": "2021-02-13T22:18:43.894Z"
     },
     "tags": []
    },
    "remote_metadata": {
     "ExecuteTime": {
      "start_time": "2021-02-13T22:18:43.894Z"
     },
     "execution": {
      "iopub.execute_input": "2022-10-02T17:50:27.131339Z",
      "iopub.status.busy": "2022-10-02T17:50:27.130994Z",
      "iopub.status.idle": "2022-10-02T17:50:32.306863Z",
      "shell.execute_reply": "2022-10-02T17:50:32.306072Z",
      "shell.execute_reply.started": "2022-10-02T17:50:27.131295Z"
     }
    }
   },
   "outputs": [],
   "source": [
    "ad.write(data_dir + 'bm_multiome_rna.h5ad')"
   ]
  },
  {
   "cell_type": "code",
   "execution_count": null,
   "metadata": {
    "local_metadata": {
     "ExecuteTime": {
      "start_time": "2021-02-13T22:18:44.471Z"
     },
     "tags": []
    },
    "remote_metadata": {
     "ExecuteTime": {
      "start_time": "2021-02-13T22:18:44.471Z"
     },
     "execution": {
      "iopub.execute_input": "2022-10-02T17:50:32.308056Z",
      "iopub.status.busy": "2022-10-02T17:50:32.307904Z",
      "iopub.status.idle": "2022-10-02T17:50:32.345930Z",
      "shell.execute_reply": "2022-10-02T17:50:32.345237Z",
      "shell.execute_reply.started": "2022-10-02T17:50:32.308037Z"
     }
    }
   },
   "outputs": [],
   "source": [
    "# Export cell names for ATAC - only this subset of cells will be use for ATAC analysis\n",
    "pd.DataFrame(ad.obs_names).to_csv(data_dir + 'bm_multiome_cells.csv')"
   ]
  },
  {
   "cell_type": "code",
   "execution_count": null,
   "metadata": {
    "local_metadata": {
     "tags": []
    },
    "remote_metadata": {
     "execution": {
      "iopub.execute_input": "2022-10-02T17:50:37.807841Z",
      "iopub.status.busy": "2022-10-02T17:50:37.807400Z",
      "iopub.status.idle": "2022-10-02T17:50:37.813196Z",
      "shell.execute_reply": "2022-10-02T17:50:37.812384Z",
      "shell.execute_reply.started": "2022-10-02T17:50:37.807752Z"
     }
    }
   },
   "outputs": [],
   "source": [
    "\n",
    "data_dir"
   ]
  },
  {
   "cell_type": "code",
   "execution_count": null,
   "metadata": {
    "local_metadata": {
     "tags": []
    },
    "remote_metadata": {
     "execution": {
      "iopub.execute_input": "2022-10-02T18:00:53.413008Z",
      "iopub.status.busy": "2022-10-02T18:00:53.412646Z",
      "iopub.status.idle": "2022-10-02T18:00:53.669157Z",
      "shell.execute_reply": "2022-10-02T18:00:53.668032Z",
      "shell.execute_reply.started": "2022-10-02T18:00:53.412963Z"
     }
    }
   },
   "outputs": [],
   "source": [
    "!ls -ltrh $data_dir"
   ]
  },
  {
   "cell_type": "code",
   "execution_count": null,
   "metadata": {},
   "outputs": [],
   "source": []
  }
 ],
 "metadata": {
  "hide_input": false,
  "nbdime-conflicts": {
   "local_diff": [
    {
     "key": "kernelspec",
     "op": "add",
     "value": {
      "display_name": "singlecell",
      "language": "python",
      "name": "singlecell"
     }
    },
    {
     "key": "language_info",
     "op": "add",
     "value": {
      "codemirror_mode": {
       "name": "ipython",
       "version": 3
      },
      "file_extension": ".py",
      "mimetype": "text/x-python",
      "name": "python",
      "nbconvert_exporter": "python",
      "pygments_lexer": "ipython3",
      "version": "3.8.0"
     }
    }
   ],
   "remote_diff": [
    {
     "key": "kernelspec",
     "op": "add",
     "value": {
      "display_name": "Python 3",
      "language": "python",
      "name": "python3"
     }
    },
    {
     "key": "language_info",
     "op": "add",
     "value": {
      "codemirror_mode": {
       "name": "ipython",
       "version": 3
      },
      "file_extension": ".py",
      "mimetype": "text/x-python",
      "name": "python",
      "nbconvert_exporter": "python",
      "pygments_lexer": "ipython3",
      "version": "3.8.12"
     }
    }
   ]
  },
  "toc": {
   "base_numbering": 1,
   "nav_menu": {},
   "number_sections": true,
   "sideBar": true,
   "skip_h1_title": false,
   "title_cell": "Table of Contents",
   "title_sidebar": "Contents",
   "toc_cell": false,
   "toc_position": {
    "height": "calc(100% - 180px)",
    "left": "10px",
    "top": "150px",
    "width": "254px"
   },
   "toc_section_display": true,
   "toc_window_display": true
  }
 },
 "nbformat": 4,
 "nbformat_minor": 4
}
