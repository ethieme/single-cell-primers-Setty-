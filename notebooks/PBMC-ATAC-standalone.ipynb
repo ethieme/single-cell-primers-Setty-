{
 "cells": [
  {
   "cell_type": "markdown",
   "metadata": {
    "button": false,
    "new_sheet": false
   },
   "source": [
    "# Prelim"
   ]
  },
  {
   "cell_type": "markdown",
   "metadata": {
    "button": false,
    "new_sheet": false
   },
   "source": [
    "Notebook for 10X PBMC ATAC dataset: https://support.10xgenomics.com/single-cell-atac/datasets/1.2.0/atac_pbmc_10k_nextgem\n",
    "\n",
    "<b>ArchR installation </b>\n",
    "\n",
    "Install from [https://github.com/settylab/ArchR](https://github.com/settylab/ArchR)\n",
    "\n",
    "```\n",
    "library(devtools)\n",
    "devtools::install_github(\"GreenleafLab/ArchR\", ref=\"master\", repos = BiocManager::repositories())\n",
    "```\n",
    "\n",
    "Update your ArchR with the customized version\n",
    "```\n",
    "R CMD INSTALL -l <PATH to R personal library> <path to Git clone >\n",
    "```\n",
    "\n",
    "Review the notebook `PBMC-RNA-standalone.ipynb` for setup instructions.\n",
    "Install MACS2 for peak celling \n",
    "```\n",
    "conda install -c bioconda macs2 \n",
    "```\n",
    "\n"
   ]
  },
  {
   "cell_type": "markdown",
   "metadata": {},
   "source": [
    "## Load data"
   ]
  },
  {
   "cell_type": "markdown",
   "metadata": {},
   "source": [
    "Download the following files:\n",
    "1. [ATAC fragments file](https://fh-pi-setty-m-eco-public.s3.us-west-2.amazonaws.com/single-cell-primers/scatac/atac_pbmc_10k_nextgem_fragments.tsv.gz)\n",
    "2. [Index for the fragments file](https://fh-pi-setty-m-eco-public.s3.us-west-2.amazonaws.com/single-cell-primers/scatac/atac_pbmc_10k_nextgem_fragments.tsv.gz.tbi)\n",
    "3. [Per barcode metrics](https://fh-pi-setty-m-eco-public.s3.us-west-2.amazonaws.com/single-cell-primers/scatac/atac_pbmc_10k_nextgem_singlecell.csv)\n",
    "4. [Motifs file](https://fh-pi-setty-m-eco-public.s3.us-west-2.amazonaws.com/single-cell-primers/scatac/motifs.tsv)\n",
    "\n",
    "Use the above files to run ArchR using the ArchR preprocessing script: https://github.com/settylab/single-cell-primers/blob/main/scripts/PBMC-ATAC-standalone-ArchR-preprocessing.R\n"
   ]
  },
  {
   "cell_type": "markdown",
   "metadata": {},
   "source": [
    "The outputs from ArchR are available to download from: \n",
    "`s3://fh-pi-setty-m-eco-public/single-cell-primers/scatac/ArchR/`\n",
    "\n",
    "Copy the results over to the `data/` directory using \n",
    "`aws s3 sync s3://fh-pi-setty-m-eco-public/single-cell-primers/scatac/ArchR/ data/pbmc_10x_atac/export/`"
   ]
  },
  {
   "cell_type": "code",
   "execution_count": 1,
   "metadata": {
    "ExecuteTime": {
     "end_time": "2022-01-24T02:22:46.112089Z",
     "start_time": "2022-01-24T02:22:46.109087Z"
    }
   },
   "outputs": [],
   "source": [
    "# Uncomment following line to download\n",
    "#!aws s3 sync s3://fh-pi-setty-m-eco-public/single-cell-primers/scatac/ArchR/ ../data/pbmc_10x_atac/export/"
   ]
  },
  {
   "cell_type": "code",
   "execution_count": null,
   "metadata": {},
   "outputs": [],
   "source": []
  },
  {
   "cell_type": "markdown",
   "metadata": {},
   "source": [
    "# Imports"
   ]
  },
  {
   "cell_type": "code",
   "execution_count": 2,
   "metadata": {
    "ExecuteTime": {
     "end_time": "2022-01-24T00:53:39.833110Z",
     "start_time": "2022-01-24T00:53:36.989640Z"
    },
    "button": false,
    "new_sheet": false
   },
   "outputs": [],
   "source": [
    "import os\n",
    "import pandas as pd\n",
    "import numpy as np\n",
    "\n",
    "import scanpy as sc\n",
    "import pyranges as pr\n",
    "import warnings"
   ]
  },
  {
   "cell_type": "code",
   "execution_count": 3,
   "metadata": {
    "ExecuteTime": {
     "end_time": "2022-01-24T00:53:40.319890Z",
     "start_time": "2022-01-24T00:53:39.836672Z"
    },
    "button": false,
    "new_sheet": false
   },
   "outputs": [
    {
     "name": "stderr",
     "output_type": "stream",
     "text": [
      "findfont: Font family ['Raleway'] not found. Falling back to DejaVu Sans.\n",
      "findfont: Font family ['Lato'] not found. Falling back to DejaVu Sans.\n"
     ]
    }
   ],
   "source": [
    "import palantir \n",
    "import phenograph\n",
    "import harmony\n",
    "\n",
    "import matplotlib\n",
    "import matplotlib.pyplot as plt\n",
    "import seaborn as sns"
   ]
  },
  {
   "cell_type": "code",
   "execution_count": 4,
   "metadata": {
    "ExecuteTime": {
     "end_time": "2022-01-24T00:53:43.061743Z",
     "start_time": "2022-01-24T00:53:43.053220Z"
    },
    "button": false,
    "new_sheet": false
   },
   "outputs": [],
   "source": [
    "%matplotlib inline\n",
    "sns.set_style('ticks')\n",
    "matplotlib.rcParams['figure.figsize'] = [4, 4]\n",
    "matplotlib.rcParams['figure.dpi'] = 100\n",
    "matplotlib.rcParams['image.cmap'] = 'Spectral_r'\n",
    "warnings.filterwarnings(action=\"ignore\", module=\"matplotlib\", message=\"findfont\")"
   ]
  },
  {
   "cell_type": "markdown",
   "metadata": {
    "button": false,
    "new_sheet": false
   },
   "source": [
    "# Utility functions"
   ]
  },
  {
   "cell_type": "code",
   "execution_count": 5,
   "metadata": {
    "ExecuteTime": {
     "end_time": "2022-01-24T00:53:43.645768Z",
     "start_time": "2022-01-24T00:53:43.641723Z"
    },
    "button": false,
    "new_sheet": false
   },
   "outputs": [],
   "source": [
    "def log_transform(ad, ps=0.1):\n",
    "    ad.X.data = np.log2(ad.X.data + ps) - np.log2(ps)"
   ]
  },
  {
   "cell_type": "code",
   "execution_count": 6,
   "metadata": {
    "ExecuteTime": {
     "end_time": "2022-01-24T00:53:44.765348Z",
     "start_time": "2022-01-24T00:53:44.760284Z"
    },
    "button": false,
    "new_sheet": false
   },
   "outputs": [],
   "source": [
    "def pyranges_from_strings(pos_list):\n",
    "    # Chromosome and positions\n",
    "    chr = pos_list.str.split(':').str.get(0)\n",
    "    start = pd.Series(pos_list.str.split(':').str.get(1)).str.split('-').str.get(0)\n",
    "    end = pd.Series(pos_list.str.split(':').str.get(1)).str.split('-').str.get(1)\n",
    "    \n",
    "    # Create ranges\n",
    "    gr = pr.PyRanges(chromosomes=chr, starts=start, ends=end)\n",
    "    \n",
    "    return gr"
   ]
  },
  {
   "cell_type": "markdown",
   "metadata": {
    "button": false,
    "new_sheet": false
   },
   "source": [
    "# Load data"
   ]
  },
  {
   "cell_type": "markdown",
   "metadata": {
    "button": false,
    "new_sheet": false
   },
   "source": [
    "## ATAC"
   ]
  },
  {
   "cell_type": "code",
   "execution_count": 7,
   "metadata": {
    "ExecuteTime": {
     "end_time": "2022-01-24T00:53:51.516393Z",
     "start_time": "2022-01-24T00:53:51.513706Z"
    },
    "button": false,
    "new_sheet": false
   },
   "outputs": [],
   "source": [
    "data_dir = os.path.expanduser('../data/pbmc_10x_atac/export/')"
   ]
  },
  {
   "cell_type": "markdown",
   "metadata": {
    "button": false,
    "new_sheet": false
   },
   "source": [
    "Load all the exported results from ArchR"
   ]
  },
  {
   "cell_type": "markdown",
   "metadata": {
    "button": false,
    "new_sheet": false
   },
   "source": [
    "### Peaks data"
   ]
  },
  {
   "cell_type": "code",
   "execution_count": 8,
   "metadata": {
    "ExecuteTime": {
     "end_time": "2022-01-24T02:12:11.007282Z",
     "start_time": "2022-01-24T02:11:05.059843Z"
    },
    "button": false,
    "new_sheet": false
   },
   "outputs": [],
   "source": [
    "# Peaks data\n",
    "from scipy.io import mmread\n",
    "counts = mmread(data_dir + 'peak_counts/counts.mtx')"
   ]
  },
  {
   "cell_type": "code",
   "execution_count": 9,
   "metadata": {
    "ExecuteTime": {
     "end_time": "2022-01-24T02:12:11.776029Z",
     "start_time": "2022-01-24T02:12:11.010163Z"
    },
    "button": false,
    "new_sheet": false
   },
   "outputs": [
    {
     "data": {
      "text/html": [
       "<div>\n",
       "<style scoped>\n",
       "    .dataframe tbody tr th:only-of-type {\n",
       "        vertical-align: middle;\n",
       "    }\n",
       "\n",
       "    .dataframe tbody tr th {\n",
       "        vertical-align: top;\n",
       "    }\n",
       "\n",
       "    .dataframe thead th {\n",
       "        text-align: right;\n",
       "    }\n",
       "</style>\n",
       "<table border=\"1\" class=\"dataframe\">\n",
       "  <thead>\n",
       "    <tr style=\"text-align: right;\">\n",
       "      <th></th>\n",
       "      <th>seqnames</th>\n",
       "      <th>start</th>\n",
       "      <th>end</th>\n",
       "      <th>width</th>\n",
       "      <th>strand</th>\n",
       "      <th>score</th>\n",
       "      <th>replicateScoreQuantile</th>\n",
       "      <th>groupScoreQuantile</th>\n",
       "      <th>Reproducibility</th>\n",
       "      <th>GroupReplicate</th>\n",
       "      <th>nearestGene</th>\n",
       "      <th>distToGeneStart</th>\n",
       "      <th>peakType</th>\n",
       "      <th>distToTSS</th>\n",
       "      <th>nearestTSS</th>\n",
       "      <th>GC</th>\n",
       "      <th>idx</th>\n",
       "      <th>N</th>\n",
       "    </tr>\n",
       "  </thead>\n",
       "  <tbody>\n",
       "    <tr>\n",
       "      <th>chr1:752475-752975</th>\n",
       "      <td>chr1</td>\n",
       "      <td>752475</td>\n",
       "      <td>752975</td>\n",
       "      <td>501</td>\n",
       "      <td>*</td>\n",
       "      <td>107.26800</td>\n",
       "      <td>0.957</td>\n",
       "      <td>0.887</td>\n",
       "      <td>2</td>\n",
       "      <td>C14._.Rep1</td>\n",
       "      <td>LINC00115</td>\n",
       "      <td>8861</td>\n",
       "      <td>Distal</td>\n",
       "      <td>10176</td>\n",
       "      <td>uc001aau.3</td>\n",
       "      <td>0.4810</td>\n",
       "      <td>1</td>\n",
       "      <td>0</td>\n",
       "    </tr>\n",
       "    <tr>\n",
       "      <th>chr1:762714-763214</th>\n",
       "      <td>chr1</td>\n",
       "      <td>762714</td>\n",
       "      <td>763214</td>\n",
       "      <td>501</td>\n",
       "      <td>*</td>\n",
       "      <td>20.66550</td>\n",
       "      <td>0.957</td>\n",
       "      <td>0.887</td>\n",
       "      <td>2</td>\n",
       "      <td>C14._.Rep2</td>\n",
       "      <td>LINC01128</td>\n",
       "      <td>7</td>\n",
       "      <td>Promoter</td>\n",
       "      <td>6</td>\n",
       "      <td>uc021oeh.1</td>\n",
       "      <td>0.7026</td>\n",
       "      <td>2</td>\n",
       "      <td>0</td>\n",
       "    </tr>\n",
       "    <tr>\n",
       "      <th>chr1:773662-774162</th>\n",
       "      <td>chr1</td>\n",
       "      <td>773662</td>\n",
       "      <td>774162</td>\n",
       "      <td>501</td>\n",
       "      <td>*</td>\n",
       "      <td>2.80331</td>\n",
       "      <td>0.322</td>\n",
       "      <td>0.058</td>\n",
       "      <td>2</td>\n",
       "      <td>C7._.Rep2</td>\n",
       "      <td>LINC01128</td>\n",
       "      <td>10941</td>\n",
       "      <td>Intronic</td>\n",
       "      <td>10733</td>\n",
       "      <td>uc021oeh.1</td>\n",
       "      <td>0.4591</td>\n",
       "      <td>3</td>\n",
       "      <td>0</td>\n",
       "    </tr>\n",
       "    <tr>\n",
       "      <th>chr1:779830-780330</th>\n",
       "      <td>chr1</td>\n",
       "      <td>779830</td>\n",
       "      <td>780330</td>\n",
       "      <td>501</td>\n",
       "      <td>*</td>\n",
       "      <td>6.29453</td>\n",
       "      <td>0.312</td>\n",
       "      <td>0.141</td>\n",
       "      <td>2</td>\n",
       "      <td>C2._.Rep1</td>\n",
       "      <td>LINC01128</td>\n",
       "      <td>17109</td>\n",
       "      <td>Intronic</td>\n",
       "      <td>16901</td>\n",
       "      <td>uc021oeh.1</td>\n",
       "      <td>0.5150</td>\n",
       "      <td>4</td>\n",
       "      <td>0</td>\n",
       "    </tr>\n",
       "    <tr>\n",
       "      <th>chr1:800919-801419</th>\n",
       "      <td>chr1</td>\n",
       "      <td>800919</td>\n",
       "      <td>801419</td>\n",
       "      <td>501</td>\n",
       "      <td>*</td>\n",
       "      <td>69.04460</td>\n",
       "      <td>0.883</td>\n",
       "      <td>0.729</td>\n",
       "      <td>2</td>\n",
       "      <td>C3._.Rep1</td>\n",
       "      <td>FAM41C</td>\n",
       "      <td>2282</td>\n",
       "      <td>Distal</td>\n",
       "      <td>11012</td>\n",
       "      <td>uc021oei.1</td>\n",
       "      <td>0.4631</td>\n",
       "      <td>5</td>\n",
       "      <td>0</td>\n",
       "    </tr>\n",
       "  </tbody>\n",
       "</table>\n",
       "</div>"
      ],
      "text/plain": [
       "                   seqnames   start     end  width strand      score  \\\n",
       "chr1:752475-752975     chr1  752475  752975    501      *  107.26800   \n",
       "chr1:762714-763214     chr1  762714  763214    501      *   20.66550   \n",
       "chr1:773662-774162     chr1  773662  774162    501      *    2.80331   \n",
       "chr1:779830-780330     chr1  779830  780330    501      *    6.29453   \n",
       "chr1:800919-801419     chr1  800919  801419    501      *   69.04460   \n",
       "\n",
       "                    replicateScoreQuantile  groupScoreQuantile  \\\n",
       "chr1:752475-752975                   0.957               0.887   \n",
       "chr1:762714-763214                   0.957               0.887   \n",
       "chr1:773662-774162                   0.322               0.058   \n",
       "chr1:779830-780330                   0.312               0.141   \n",
       "chr1:800919-801419                   0.883               0.729   \n",
       "\n",
       "                    Reproducibility GroupReplicate nearestGene  \\\n",
       "chr1:752475-752975                2     C14._.Rep1   LINC00115   \n",
       "chr1:762714-763214                2     C14._.Rep2   LINC01128   \n",
       "chr1:773662-774162                2      C7._.Rep2   LINC01128   \n",
       "chr1:779830-780330                2      C2._.Rep1   LINC01128   \n",
       "chr1:800919-801419                2      C3._.Rep1      FAM41C   \n",
       "\n",
       "                    distToGeneStart  peakType  distToTSS  nearestTSS      GC  \\\n",
       "chr1:752475-752975             8861    Distal      10176  uc001aau.3  0.4810   \n",
       "chr1:762714-763214                7  Promoter          6  uc021oeh.1  0.7026   \n",
       "chr1:773662-774162            10941  Intronic      10733  uc021oeh.1  0.4591   \n",
       "chr1:779830-780330            17109  Intronic      16901  uc021oeh.1  0.5150   \n",
       "chr1:800919-801419             2282    Distal      11012  uc021oei.1  0.4631   \n",
       "\n",
       "                    idx  N  \n",
       "chr1:752475-752975    1  0  \n",
       "chr1:762714-763214    2  0  \n",
       "chr1:773662-774162    3  0  \n",
       "chr1:779830-780330    4  0  \n",
       "chr1:800919-801419    5  0  "
      ]
     },
     "execution_count": 9,
     "metadata": {},
     "output_type": "execute_result"
    }
   ],
   "source": [
    "# Cell and peak information\n",
    "cells = pd.read_csv(data_dir + 'peak_counts/cells.csv', index_col=0).iloc[:, 0]\n",
    "peaks = pd.read_csv(data_dir + 'peak_counts/peaks.csv', index_col=0)\n",
    "peaks.index = peaks['seqnames'] + ':' + peaks['start'].astype(str) + '-' + peaks['end'].astype(str)\n",
    "peaks.head()"
   ]
  },
  {
   "cell_type": "code",
   "execution_count": 10,
   "metadata": {
    "ExecuteTime": {
     "end_time": "2022-01-24T02:12:20.424915Z",
     "start_time": "2022-01-24T02:12:11.778016Z"
    },
    "button": false,
    "new_sheet": false
   },
   "outputs": [
    {
     "name": "stderr",
     "output_type": "stream",
     "text": [
      "/loc/scratch/7538045/ipykernel_29323/1812160205.py:1: FutureWarning: X.dtype being converted to np.float32 from int64. In the next version of anndata (0.9) conversion will not be automatic. Pass dtype explicitly to avoid this warning. Pass `AnnData(X, dtype=X.dtype, ...)` to get the future behavour.\n",
      "  ad = sc.AnnData(counts.T)\n"
     ]
    }
   ],
   "source": [
    "ad = sc.AnnData(counts.T)\n",
    "ad.obs_names = cells\n",
    "ad.var_names = peaks.index\n",
    "for col in peaks.columns:\n",
    "    ad.var[col] = peaks[col]"
   ]
  },
  {
   "cell_type": "code",
   "execution_count": 11,
   "metadata": {
    "ExecuteTime": {
     "end_time": "2022-01-24T02:12:21.721112Z",
     "start_time": "2022-01-24T02:12:20.428687Z"
    },
    "button": false,
    "new_sheet": false
   },
   "outputs": [],
   "source": [
    "ad.X = ad.X.tocsr()"
   ]
  },
  {
   "cell_type": "code",
   "execution_count": 12,
   "metadata": {
    "ExecuteTime": {
     "end_time": "2022-01-24T02:12:21.728775Z",
     "start_time": "2022-01-24T02:12:21.723528Z"
    },
    "button": false,
    "new_sheet": false
   },
   "outputs": [
    {
     "data": {
      "text/plain": [
       "AnnData object with n_obs × n_vars = 9489 × 155687\n",
       "    var: 'seqnames', 'start', 'end', 'width', 'strand', 'score', 'replicateScoreQuantile', 'groupScoreQuantile', 'Reproducibility', 'GroupReplicate', 'nearestGene', 'distToGeneStart', 'peakType', 'distToTSS', 'nearestTSS', 'GC', 'idx', 'N'"
      ]
     },
     "execution_count": 12,
     "metadata": {},
     "output_type": "execute_result"
    }
   ],
   "source": [
    "ad"
   ]
  },
  {
   "cell_type": "markdown",
   "metadata": {
    "button": false,
    "new_sheet": false
   },
   "source": [
    "### SVD"
   ]
  },
  {
   "cell_type": "code",
   "execution_count": 13,
   "metadata": {
    "ExecuteTime": {
     "end_time": "2022-01-24T02:12:21.846728Z",
     "start_time": "2022-01-24T02:12:21.732033Z"
    },
    "button": false,
    "new_sheet": false
   },
   "outputs": [],
   "source": [
    "ad.obsm['X_svd'] = pd.read_csv(data_dir + 'svd.csv', index_col=0).loc[ad.obs_names, : ].values"
   ]
  },
  {
   "cell_type": "markdown",
   "metadata": {
    "button": false,
    "new_sheet": false
   },
   "source": [
    "### Metadata"
   ]
  },
  {
   "cell_type": "code",
   "execution_count": 14,
   "metadata": {
    "ExecuteTime": {
     "end_time": "2022-01-24T02:12:21.902630Z",
     "start_time": "2022-01-24T02:12:21.849382Z"
    },
    "button": false,
    "new_sheet": false
   },
   "outputs": [],
   "source": [
    "cell_meta = pd.read_csv(data_dir + 'cell_metadata.csv', index_col=0).loc[ad.obs_names, : ]\n",
    "for col in cell_meta.columns:\n",
    "    ad.obs[col] = cell_meta[col].values"
   ]
  },
  {
   "cell_type": "code",
   "execution_count": 15,
   "metadata": {
    "ExecuteTime": {
     "end_time": "2022-01-24T02:12:21.910554Z",
     "start_time": "2022-01-24T02:12:21.906153Z"
    },
    "button": false,
    "new_sheet": false
   },
   "outputs": [
    {
     "data": {
      "text/plain": [
       "AnnData object with n_obs × n_vars = 9489 × 155687\n",
       "    obs: 'Sample', 'TSSEnrichment', 'ReadsInTSS', 'ReadsInPromoter', 'ReadsInBlacklist', 'PromoterRatio', 'PassQC', 'NucleosomeRatio', 'nMultiFrags', 'nMonoFrags', 'nFrags', 'nDiFrags', 'BlacklistRatio', 'Clusters', 'ReadsInPeaks', 'FRIP'\n",
       "    var: 'seqnames', 'start', 'end', 'width', 'strand', 'score', 'replicateScoreQuantile', 'groupScoreQuantile', 'Reproducibility', 'GroupReplicate', 'nearestGene', 'distToGeneStart', 'peakType', 'distToTSS', 'nearestTSS', 'GC', 'idx', 'N'\n",
       "    obsm: 'X_svd'"
      ]
     },
     "execution_count": 15,
     "metadata": {},
     "output_type": "execute_result"
    }
   ],
   "source": [
    "ad"
   ]
  },
  {
   "cell_type": "markdown",
   "metadata": {
    "button": false,
    "new_sheet": false
   },
   "source": [
    "### Gene scores"
   ]
  },
  {
   "cell_type": "code",
   "execution_count": 16,
   "metadata": {
    "ExecuteTime": {
     "end_time": "2022-01-24T02:22:44.815042Z",
     "start_time": "2022-01-24T02:21:21.076330Z"
    },
    "button": false,
    "new_sheet": false
   },
   "outputs": [],
   "source": [
    "# Gene scores\n",
    "gene_scores = pd.read_csv(data_dir + 'gene_scores.csv', index_col=0).T"
   ]
  },
  {
   "cell_type": "code",
   "execution_count": 17,
   "metadata": {
    "ExecuteTime": {
     "end_time": "2022-01-24T02:22:46.094634Z",
     "start_time": "2022-01-24T02:22:44.818736Z"
    },
    "button": false,
    "new_sheet": false
   },
   "outputs": [],
   "source": [
    "ad.obsm['GeneScores'] = gene_scores.loc[ad.obs_names, :].values\n",
    "ad.uns['GeneScoresColums'] = gene_scores.columns.values"
   ]
  },
  {
   "cell_type": "code",
   "execution_count": 18,
   "metadata": {
    "ExecuteTime": {
     "end_time": "2022-01-24T02:22:46.104644Z",
     "start_time": "2022-01-24T02:22:46.096391Z"
    },
    "button": false,
    "new_sheet": false
   },
   "outputs": [
    {
     "data": {
      "text/plain": [
       "AnnData object with n_obs × n_vars = 9489 × 155687\n",
       "    obs: 'Sample', 'TSSEnrichment', 'ReadsInTSS', 'ReadsInPromoter', 'ReadsInBlacklist', 'PromoterRatio', 'PassQC', 'NucleosomeRatio', 'nMultiFrags', 'nMonoFrags', 'nFrags', 'nDiFrags', 'BlacklistRatio', 'Clusters', 'ReadsInPeaks', 'FRIP'\n",
       "    var: 'seqnames', 'start', 'end', 'width', 'strand', 'score', 'replicateScoreQuantile', 'groupScoreQuantile', 'Reproducibility', 'GroupReplicate', 'nearestGene', 'distToGeneStart', 'peakType', 'distToTSS', 'nearestTSS', 'GC', 'idx', 'N'\n",
       "    uns: 'GeneScoresColums'\n",
       "    obsm: 'X_svd', 'GeneScores'"
      ]
     },
     "execution_count": 18,
     "metadata": {},
     "output_type": "execute_result"
    }
   ],
   "source": [
    "ad"
   ]
  },
  {
   "cell_type": "markdown",
   "metadata": {
    "tags": []
   },
   "source": [
    "\n",
    "Add the motifs.tsv to the Anndata to allow matching of motif names with TFs"
   ]
  },
  {
   "cell_type": "code",
   "execution_count": 19,
   "metadata": {},
   "outputs": [],
   "source": [
    "ad.uns['motifs'] = pd.read_csv(data_dir + \"motifs.tsv\")"
   ]
  },
  {
   "cell_type": "markdown",
   "metadata": {
    "button": false,
    "new_sheet": false
   },
   "source": [
    "# Preprocessing"
   ]
  },
  {
   "cell_type": "code",
   "execution_count": 20,
   "metadata": {
    "ExecuteTime": {
     "end_time": "2022-01-24T02:23:27.924858Z",
     "start_time": "2022-01-24T02:22:46.114709Z"
    },
    "button": false,
    "new_sheet": false
   },
   "outputs": [
    {
     "name": "stderr",
     "output_type": "stream",
     "text": [
      "2023-01-13 16:12:43.538553: I tensorflow/core/platform/cpu_feature_guard.cc:193] This TensorFlow binary is optimized with oneAPI Deep Neural Network Library (oneDNN) to use the following CPU instructions in performance-critical operations:  AVX2 AVX512F AVX512_VNNI FMA\n",
      "To enable them in other operations, rebuild TensorFlow with the appropriate compiler flags.\n",
      "2023-01-13 16:12:43.673495: I tensorflow/core/util/util.cc:169] oneDNN custom operations are on. You may see slightly different numerical results due to floating-point round-off errors from different computation orders. To turn them off, set the environment variable `TF_ENABLE_ONEDNN_OPTS=0`.\n",
      "2023-01-13 16:12:43.678411: W tensorflow/stream_executor/platform/default/dso_loader.cc:64] Could not load dynamic library 'libcudart.so.11.0'; dlerror: libcudart.so.11.0: cannot open shared object file: No such file or directory\n",
      "2023-01-13 16:12:43.678425: I tensorflow/stream_executor/cuda/cudart_stub.cc:29] Ignore above cudart dlerror if you do not have a GPU set up on your machine.\n",
      "2023-01-13 16:12:43.705725: E tensorflow/stream_executor/cuda/cuda_blas.cc:2981] Unable to register cuBLAS factory: Attempting to register factory for plugin cuBLAS when one has already been registered\n"
     ]
    }
   ],
   "source": [
    "# Leiden and UMAP\n",
    "warnings.filterwarnings('ignore')\n",
    "sc.pp.neighbors(ad, use_rep='X_svd')\n",
    "sc.tl.umap(ad)\n",
    "sc.tl.leiden(ad)\n",
    "warnings.filterwarnings('default')"
   ]
  },
  {
   "cell_type": "code",
   "execution_count": 21,
   "metadata": {
    "ExecuteTime": {
     "end_time": "2022-01-24T02:23:44.920519Z",
     "start_time": "2022-01-24T02:23:27.927027Z"
    },
    "button": false,
    "new_sheet": false
   },
   "outputs": [
    {
     "name": "stdout",
     "output_type": "stream",
     "text": [
      "Finding 30 nearest neighbors using minkowski metric and 'auto' algorithm\n",
      "Neighbors computed in 9.405001163482666 seconds\n",
      "Jaccard graph constructed in 3.8291118144989014 seconds\n",
      "Wrote graph to binary file in 0.1919097900390625 seconds\n",
      "Running Louvain modularity optimization\n",
      "After 1 runs, maximum modularity is Q = 0.855583\n",
      "After 2 runs, maximum modularity is Q = 0.857994\n",
      "After 3 runs, maximum modularity is Q = 0.860559\n",
      "After 4 runs, maximum modularity is Q = 0.861707\n",
      "Louvain completed 24 runs in 10.721095561981201 seconds\n",
      "Sorting communities by size, please wait ...\n",
      "PhenoGraph completed in 27.66795015335083 seconds\n"
     ]
    }
   ],
   "source": [
    "# Phenograph\n",
    "warnings.filterwarnings('ignore')\n",
    "ad.obs['phenograph'], _, _ = phenograph.cluster(ad.obsm['X_svd'])\n",
    "ad.obs['phenograph'] = ad.obs['phenograph'].astype(str)"
   ]
  },
  {
   "cell_type": "markdown",
   "metadata": {
    "button": false,
    "new_sheet": false
   },
   "source": [
    "# Visualizations"
   ]
  },
  {
   "cell_type": "code",
   "execution_count": 22,
   "metadata": {
    "ExecuteTime": {
     "end_time": "2022-01-24T02:23:46.698817Z",
     "start_time": "2022-01-24T02:23:44.925758Z"
    },
    "button": false,
    "new_sheet": false
   },
   "outputs": [
    {
     "data": {
      "image/png": "[encoded data removed]",
      "text/plain": [
       "<Figure size 984x400 with 2 Axes>"
      ]
     },
     "metadata": {},
     "output_type": "display_data"
    }
   ],
   "source": [
    "sc.pl.scatter(ad, basis='umap', color=['leiden', 'phenograph'])"
   ]
  },
  {
   "cell_type": "code",
   "execution_count": null,
   "metadata": {
    "button": false,
    "new_sheet": false
   },
   "outputs": [],
   "source": []
  },
  {
   "cell_type": "markdown",
   "metadata": {
    "button": false,
    "new_sheet": false
   },
   "source": [
    "# Save"
   ]
  },
  {
   "cell_type": "code",
   "execution_count": 23,
   "metadata": {
    "ExecuteTime": {
     "end_time": "2022-01-24T02:23:46.705441Z",
     "start_time": "2022-01-24T02:23:46.700649Z"
    },
    "button": false,
    "new_sheet": false
   },
   "outputs": [
    {
     "data": {
      "text/plain": [
       "AnnData object with n_obs × n_vars = 9489 × 155687\n",
       "    obs: 'Sample', 'TSSEnrichment', 'ReadsInTSS', 'ReadsInPromoter', 'ReadsInBlacklist', 'PromoterRatio', 'PassQC', 'NucleosomeRatio', 'nMultiFrags', 'nMonoFrags', 'nFrags', 'nDiFrags', 'BlacklistRatio', 'Clusters', 'ReadsInPeaks', 'FRIP', 'leiden', 'phenograph'\n",
       "    var: 'seqnames', 'start', 'end', 'width', 'strand', 'score', 'replicateScoreQuantile', 'groupScoreQuantile', 'Reproducibility', 'GroupReplicate', 'nearestGene', 'distToGeneStart', 'peakType', 'distToTSS', 'nearestTSS', 'GC', 'idx', 'N'\n",
       "    uns: 'GeneScoresColums', 'motifs', 'neighbors', 'umap', 'leiden', 'leiden_colors', 'phenograph_colors'\n",
       "    obsm: 'X_svd', 'GeneScores', 'X_umap'\n",
       "    obsp: 'distances', 'connectivities'"
      ]
     },
     "execution_count": 23,
     "metadata": {},
     "output_type": "execute_result"
    }
   ],
   "source": [
    "ad"
   ]
  },
  {
   "cell_type": "code",
   "execution_count": 24,
   "metadata": {
    "ExecuteTime": {
     "end_time": "2021-01-11T02:51:45.765397Z",
     "start_time": "2021-01-11T02:51:41.508239Z"
    },
    "button": false,
    "new_sheet": false
   },
   "outputs": [],
   "source": [
    "ad.write(data_dir + '../../pbmc_10k_atac.h5ad')"
   ]
  },
  {
   "cell_type": "markdown",
   "metadata": {
    "button": false,
    "new_sheet": false
   },
   "source": [
    "# Coverage plots"
   ]
  },
  {
   "cell_type": "markdown",
   "metadata": {
    "button": false,
    "new_sheet": false
   },
   "source": [
    "## Functions"
   ]
  },
  {
   "cell_type": "code",
   "execution_count": 25,
   "metadata": {
    "ExecuteTime": {
     "end_time": "2022-01-24T02:23:46.726724Z",
     "start_time": "2022-01-24T02:23:46.707934Z"
    },
    "button": false,
    "new_sheet": false
   },
   "outputs": [],
   "source": [
    "import tabix\n",
    "import subprocess\n",
    "\n",
    "import matplotlib.gridspec as gridspec\n",
    "from matplotlib.patches import Rectangle\n",
    "from matplotlib.collections import PatchCollection"
   ]
  },
  {
   "cell_type": "code",
   "execution_count": 26,
   "metadata": {
    "ExecuteTime": {
     "end_time": "2022-01-24T02:23:46.729599Z",
     "start_time": "2022-01-24T02:23:46.729582Z"
    },
    "button": false,
    "new_sheet": false
   },
   "outputs": [],
   "source": [
    "def compute_coverage(fragments_file, region, barcodes, out_prefix, \n",
    "                     smooth=None, normalize=False, frag_type='All'):\n",
    "\n",
    "    # Read file\n",
    "    tb = tabix.open(fragments_file)\n",
    "    # Query region\n",
    "    records = tb.querys(region)\n",
    "\n",
    "    # Bed file\n",
    "    bed_file = open(out_prefix + '.bed', 'w')\n",
    "\n",
    "    # Iterate and write bed file\n",
    "    for record in records:\n",
    "        if record[3] in barcodes:\n",
    "            # Write to bed file if the read is NFR\n",
    "            if frag_type == 'NFR' and int(record[2]) - int(record[1]) > 145:\n",
    "                continue \n",
    "            if frag_type == 'NUC' and int(record[2]) - int(record[1]) <= 145:\n",
    "                continue \n",
    "            \n",
    "            # Write to bed file\n",
    "            line = record[0] + '\\t' + record[1] + '\\t' + record[2] + '\\n'\n",
    "            bed_file.writelines(line)\n",
    "\n",
    "    # Close bed file\n",
    "    bed_file.close()\n",
    "\n",
    "    # Region to bed\n",
    "    line = region.replace(':', '\\t').replace('-', '\\t') + '\\n'\n",
    "    bed_file = open(out_prefix + '.region.bed', 'w')\n",
    "    bed_file.writelines(line)\n",
    "    bed_file.close()\n",
    "\n",
    "    # Coverage\n",
    "    out_file = open(out_prefix + '.coverage.bed', 'w')\n",
    "    args = ['bedtools', 'coverage', '-a', out_prefix + '.region.bed', '-b',\n",
    "            out_prefix + '.bed', '-d']\n",
    "    subprocess.call(args, stdout=out_file)\n",
    "    out_file.close()\n",
    "\n",
    "    # Read coverage\n",
    "    df = pd.read_csv(out_prefix + '.coverage.bed', sep='\\t', header=None)\n",
    "    coverage = pd.Series(df[4].values, index=df[1] + df[3] - 1)\n",
    "    coverage.attrs['chr'] = df[0][0]\n",
    "\n",
    "    # Smooth if specified\n",
    "    if smooth:\n",
    "        coverage = coverage.rolling(smooth).mean()\n",
    "        coverage[coverage.isnull()] = coverage.iloc[smooth]\n",
    "\n",
    "    if normalize:\n",
    "        norm = 100 / len(barcodes)\n",
    "        coverage = coverage * norm\n",
    "\n",
    "    # Clean up\n",
    "    os.unlink(out_prefix + '.bed')\n",
    "    os.unlink(out_prefix + '.coverage.bed')\n",
    "    os.unlink(out_prefix + '.region.bed')\n",
    "\n",
    "    return coverage"
   ]
  },
  {
   "cell_type": "code",
   "execution_count": 27,
   "metadata": {
    "ExecuteTime": {
     "end_time": "2022-01-24T02:23:46.731361Z",
     "start_time": "2022-01-24T02:23:46.731344Z"
    },
    "button": false,
    "new_sheet": false
   },
   "outputs": [],
   "source": [
    "# Plot coverage\n",
    "def _plot_coverage(coverage, track_name='Coverage', ax=None, color='#ff7f00',\n",
    "                   min_coverage=0, ylim=None, fill=True):\n",
    "    if ax is None:\n",
    "        plt.figure()\n",
    "        ax = plt.gca()\n",
    "\n",
    "    # Plot and fill\n",
    "    values = coverage\n",
    "    values[values <= min_coverage] = 0\n",
    "    if fill:\n",
    "        ax.plot(coverage.index, values, color='black', linewidth=0.05)\n",
    "        ax.fill_between(coverage.index, 0, values, color=color)\n",
    "        ax.set_ylabel(track_name)\n",
    "    else:\n",
    "        ax.plot(coverage.index, values, color=color)\n",
    "\n",
    "    # Scale\n",
    "    if ylim is not None:\n",
    "        ax.set_ylim(ylim)\n",
    "    sns.despine(ax=ax)\n",
    "\n",
    "    \n",
    "# BED plot\n",
    "def _plot_bed(plot_peaks, track_name=\"Bed\", ax=None, facecolor='#ff7f00'):\n",
    "\n",
    "    if ax is None:\n",
    "        plt.figure()\n",
    "        ax = plt.gca()\n",
    "    \n",
    "    rects = []\n",
    "    if len(plot_peaks) > 0:\n",
    "        for s, e in zip(plot_peaks.Start, plot_peaks.End):\n",
    "            rects.append(Rectangle((s, -0.3), e - s, 0.6))\n",
    "\n",
    "    # Add rectangles\n",
    "    # Dummy scatter\n",
    "    pc = PatchCollection(rects, facecolor=facecolor, edgecolor='black')\n",
    "    ax.add_collection(pc)\n",
    "\n",
    "    # Axis annotation\n",
    "    ax.set_ylim([-1, 1])\n",
    "    sns.despine(ax=ax, bottom=True)\n",
    "    ax.set_yticks([])\n",
    "    ax.set_ylabel(track_name)\n",
    "    ax.axes.get_xaxis().set_visible(False)\n",
    "\n",
    "\n",
    "# Gene plot\n",
    "def _plot_gene(genes, ax=None, track_name='Genes', facecolor='#377eb8',\n",
    "               exon_height=0.6, utr_height=0.25):\n",
    "    # Setup plot\n",
    "    if ax is None:\n",
    "        plt.figure()\n",
    "        ax = plt.gca()\n",
    "\n",
    "    for gene in np.unique(genes.gene_name):\n",
    "        gene_pr = genes[genes.gene_name == gene]\n",
    "\n",
    "        # Plot lines\n",
    "        gs, ge = gene_pr[gene_pr.Feature == 'gene'].Start.values[0], gene_pr[gene_pr.Feature == 'gene'].End.values[0]\n",
    "        ax.plot([gs, ge], [0, 0], color='black')\n",
    "        ax.set_ylim([-1, 1])\n",
    "        ax.text((gs + ge) / 2,\n",
    "                -(exon_height + utr_height), gene, horizontalalignment='center')\n",
    "\n",
    "        # UTRs\n",
    "        utrs = gene_pr[gene_pr.Feature.astype(str).str.contains('utr')]\n",
    "        if len(utrs) > 0:\n",
    "            rects = []\n",
    "            for s, e in zip(utrs.Start, utrs.End):\n",
    "                rects.append(Rectangle((s, -utr_height / 2), e - s, utr_height))\n",
    "            ax.add_collection(PatchCollection(rects, facecolor=facecolor, edgecolor='black'))\n",
    "\n",
    "        # CDS\n",
    "        cds = gene_pr[gene_pr.Feature.astype(str).str.contains('CDS')]\n",
    "        if len(cds) == 0:\n",
    "            cds = gene_pr[gene_pr.Feature.astype(str).str.contains('exon')]\n",
    "        rects = []\n",
    "        for s, e in zip(cds.Start, cds.End):\n",
    "            rects.append(Rectangle((s, -exon_height / 2), e - s, exon_height))\n",
    "        ax.add_collection(PatchCollection(rects, facecolor=facecolor, edgecolor='black'))\n",
    "\n",
    "        # Arrow indicating direction\n",
    "        rs, re = ax.get_xlim()\n",
    "        if gene_pr.stranded:\n",
    "            s, e = cds.Start.values[0], cds.End.values[0]\n",
    "            if gene_pr.Strand.values[0] == '+':\n",
    "                ax.plot([s, e], np.repeat(-0.65, 2), color='red', linewidth=1, alpha=1)\n",
    "                ax.plot([e - (re - rs) / 100, e], [-0.95, -0.65], color='red', linewidth=1, alpha=1)\n",
    "                ax.plot([e - (re - rs) / 100, e], [-0.35, -0.65], color='red', linewidth=1, alpha=1)\n",
    "            else:\n",
    "                ax.plot([s, e], np.repeat(-0.65, 2), color='red', linewidth=1, alpha=1)\n",
    "                ax.plot([s + (re - rs) / 100, s], [-0.95, -0.65], color='red', linewidth=1, alpha=1)\n",
    "                ax.plot([s + (re - rs) / 100, s], [-0.35, -0.65], color='red', linewidth=1, alpha=1)\n",
    "\n",
    "    # Axis clean up\n",
    "    ax.set_ylabel(track_name)\n",
    "    sns.despine(ax=ax)\n",
    "    ax.set_yticks([])"
   ]
  },
  {
   "cell_type": "code",
   "execution_count": 28,
   "metadata": {
    "ExecuteTime": {
     "end_time": "2022-01-24T02:23:46.732969Z",
     "start_time": "2022-01-24T02:23:46.732950Z"
    },
    "button": false,
    "new_sheet": false
   },
   "outputs": [],
   "source": [
    "def plot_coverage(barcode_groups, region, fragments_file,\n",
    "                  peak_groups=None, genes=None, highlight_peaks=None,\n",
    "                  min_coverage=0, smooth=None, common_scale=False,\n",
    "                  plot_cov_size=2, plot_bed_size=0.75, collapsed=False,\n",
    "                  coverage_colors=None, fig_width=15, frag_type='All', normalize=True):\n",
    "\n",
    "    # Determine coverages\n",
    "    coverages = dict()\n",
    "    for k in barcode_groups.index:\n",
    "        iter_norm = normalize\n",
    "        if k == 'Single-cell':\n",
    "            iter_norm = False\n",
    "        coverages[k] = compute_coverage(fragments_file, region, barcode_groups[k],\n",
    "                                        '/tmp/test', smooth, iter_norm, frag_type)\n",
    "    # Plot\n",
    "    n_rows = len(coverages)\n",
    "    size = plot_cov_size * n_rows\n",
    "    ratios = np.repeat(1, n_rows)\n",
    "    if collapsed:\n",
    "        n_rows = 1\n",
    "        size = plot_cov_size * 4\n",
    "        ratios = np.repeat(4, 1)\n",
    "    if peak_groups is not None:\n",
    "        size += plot_bed_size * len(peak_groups)\n",
    "        n_rows += len(peak_groups)\n",
    "        ratios = np.append(ratios, np.repeat(plot_bed_size / plot_cov_size, len(peak_groups)))\n",
    "    if genes is not None:\n",
    "        size += plot_bed_size\n",
    "        n_rows += 1\n",
    "        ratios = np.append(ratios, plot_bed_size / plot_cov_size)\n",
    "\n",
    "    # Colors\n",
    "    if coverage_colors is None:\n",
    "        coverage_colors = pd.Series(sns.color_palette('Set2', len(coverages)).as_hex(),\n",
    "                                    index=barcode_groups.index)\n",
    "\n",
    "    # Y min and max\n",
    "    ylim = None\n",
    "    if common_scale:\n",
    "        ymin = np.inf\n",
    "        ymax = -np.inf\n",
    "        for row in barcode_groups.index:\n",
    "            if row == 'Single-cell':\n",
    "                continue\n",
    "            ymin = np.min([ymin, np.min(coverages[row])])\n",
    "            ymax = np.max([ymax, np.max(coverages[row])])\n",
    "        ylim = [ymin, ymax]\n",
    "\n",
    "\n",
    "    # Region pyranges\n",
    "    pr_region = pr.from_dict({'Chromosome': [region.split(':')[0]],\n",
    "                              'Start': [int(region.split(':')[1].split('-')[0])],\n",
    "                              'End': [int(region.split('-')[1])]})\n",
    "    if highlight_peaks is not None:\n",
    "        highlight_peaks = highlight_peaks.overlap(pr_region)\n",
    "        \n",
    "    # Plot\n",
    "    fig = plt.figure(figsize=[fig_width, size])\n",
    "    gs = gridspec.GridSpec(n_rows, 1, height_ratios=ratios, figure=fig)\n",
    "\n",
    "    # Coverages\n",
    "    plot_index = 0\n",
    "    if collapsed:\n",
    "        ax = fig.add_subplot(gs[plot_index, 0])\n",
    "        ax.set_xlim([pr_region.Start[0], pr_region.End[0]])\n",
    "        plot_index += 1\n",
    "\n",
    "    for row in barcode_groups.index:\n",
    "        # Create subplot\n",
    "        if not collapsed:\n",
    "            ax = fig.add_subplot(gs[plot_index, 0])\n",
    "            ax.set_xlim([pr_region.Start[0], pr_region.End[0]])\n",
    "            plot_index += 1\n",
    "\n",
    "        iter_ylim = ylim\n",
    "        if row == 'Single-cell':\n",
    "            iter_ylim = [0, 2]\n",
    "        _plot_coverage(coverages[row], row, ax, coverage_colors[row],\n",
    "                       min_coverage, iter_ylim, not collapsed)\n",
    "\n",
    "        # Highlight peaks\n",
    "        if highlight_peaks is not None:\n",
    "            for s, e in zip(highlight_peaks.Start, highlight_peaks.End):\n",
    "                rect = Rectangle((s, 0), e - s, ax.get_ylim()[1],\n",
    "                                 color='black', alpha=0.07, zorder=1000)\n",
    "                ax.add_patch(rect)\n",
    "\n",
    "        # Reset axis\n",
    "        if plot_index != n_rows:\n",
    "            ax.set_xticks([])\n",
    "\n",
    "\n",
    "    # Region pyranges\n",
    "    pr_region = pr.from_dict({'Chromosome': [region.split(':')[0]],\n",
    "                              'Start': [int(region.split(':')[1].split('-')[0])],\n",
    "                              'End': [int(region.split('-')[1])]})\n",
    "\n",
    "    # Peaks\n",
    "    if peak_groups is not None:\n",
    "        for row in peak_groups.index:\n",
    "            plot_peaks = peak_groups[row].overlap(pr_region)\n",
    "\n",
    "            ax = fig.add_subplot(gs[plot_index, 0])\n",
    "            ax.set_xlim([pr_region.Start[0], pr_region.End[0]])\n",
    "            plot_index += 1\n",
    "\n",
    "            _plot_bed(plot_peaks, row, ax)\n",
    "\n",
    "    # Genes\n",
    "    if genes is not None:\n",
    "        genes = genes.overlap(pr_region)\n",
    "        genes.End[genes.End > pr_region.End[0]] = pr_region.End[0]\n",
    "        genes.Start[genes.Start < pr_region.Start[0]] = pr_region.Start[0]\n",
    "\n",
    "\n",
    "        # Setup plot\n",
    "        ax = fig.add_subplot(gs[plot_index, 0])\n",
    "        ax.set_xlim([pr_region.Start[0], pr_region.End[0]])\n",
    "        plot_index += 1\n",
    "\n",
    "        _plot_gene(genes, ax, track_name='Genes')\n",
    "\n",
    "        # Axis clean up\n",
    "        ax.set_ylabel('Genes')\n",
    "        sns.despine(ax=ax)\n",
    "        ax.set_yticks([])\n",
    "\n",
    "\n",
    "    # Clean up axis annotation\n",
    "    ax.axes.get_xaxis().set_visible(True)\n",
    "    locs = ax.get_xticks()[[0, -1]]\n",
    "    locs[0] += 10000\n",
    "    locs[1] -= 10000\n",
    "    ax.set_xticks(locs)\n",
    "    ax.set_xticklabels([str(int(t)) for t in ax.get_xticks()])\n",
    "    ax.set_xlabel(region.split(':')[0])\n",
    "\n",
    "\n",
    "\n"
   ]
  },
  {
   "cell_type": "markdown",
   "metadata": {
    "button": false,
    "new_sheet": false
   },
   "source": [
    "## GTF"
   ]
  },
  {
   "cell_type": "code",
   "execution_count": 29,
   "metadata": {
    "ExecuteTime": {
     "end_time": "2022-01-24T02:23:46.735038Z",
     "start_time": "2022-01-24T02:23:46.735010Z"
    },
    "button": false,
    "new_sheet": false
   },
   "outputs": [],
   "source": [
    "# Download hg19 gtf file from ENSEMBL (https://www.ensembl.org) and replace with the path\n",
    "gtf = pr.read_gtf('/fh/fast/setty_m/grp/gtfs/hg19.gtf')"
   ]
  },
  {
   "cell_type": "markdown",
   "metadata": {
    "button": false,
    "new_sheet": false
   },
   "source": [
    "## Fragments file"
   ]
  },
  {
   "cell_type": "code",
   "execution_count": 30,
   "metadata": {
    "ExecuteTime": {
     "end_time": "2021-01-11T04:23:54.880531Z",
     "start_time": "2021-01-11T04:23:54.876189Z"
    },
    "button": false,
    "new_sheet": false
   },
   "outputs": [],
   "source": [
    "# Download the fragments file and replace the path\n",
    "fragments_file = '/fh/fast/setty_m/grp/public-datasets/10x_pbmc_10k_scatac/atac_pbmc_10k_nextgem_fragments.tsv.gz'"
   ]
  },
  {
   "cell_type": "code",
   "execution_count": 31,
   "metadata": {
    "ExecuteTime": {
     "end_time": "2021-01-11T04:23:57.978178Z",
     "start_time": "2021-01-11T04:23:56.781737Z"
    },
    "button": false,
    "new_sheet": false
   },
   "outputs": [],
   "source": [
    "# Cell names should be consistent with fragments file\n",
    "ad.obs['FragSample'] = ad.obs_names.str.split('#').str.get(1)"
   ]
  },
  {
   "cell_type": "markdown",
   "metadata": {
    "button": false,
    "new_sheet": false
   },
   "source": [
    "## Barcode groups"
   ]
  },
  {
   "cell_type": "code",
   "execution_count": 32,
   "metadata": {
    "ExecuteTime": {
     "end_time": "2021-01-11T04:25:18.933219Z",
     "start_time": "2021-01-11T04:25:18.895463Z"
    },
    "button": false,
    "new_sheet": false
   },
   "outputs": [],
   "source": [
    "# A track for each cluster\n",
    "barcode_groups = pd.Series(dtype=object)\n",
    "for cat in ['0', '1', '2', '4', '7', '10', '14', '16']:\n",
    "    barcode_groups[f'Clstr {cat}'] = ad.obs['FragSample'][ad.obs['phenograph'] == cat].values"
   ]
  },
  {
   "cell_type": "markdown",
   "metadata": {
    "button": false,
    "new_sheet": false
   },
   "source": [
    "## Peaks"
   ]
  },
  {
   "cell_type": "code",
   "execution_count": 33,
   "metadata": {
    "ExecuteTime": {
     "end_time": "2021-01-11T04:25:31.175458Z",
     "start_time": "2021-01-11T04:25:26.175620Z"
    },
    "button": false,
    "new_sheet": false
   },
   "outputs": [],
   "source": [
    "peak_groups = pd.Series()\n",
    "peak_groups['Peaks'] = pyranges_from_strings(ad.var_names)"
   ]
  },
  {
   "cell_type": "markdown",
   "metadata": {
    "button": false,
    "new_sheet": false
   },
   "source": [
    "## Plot"
   ]
  },
  {
   "cell_type": "code",
   "execution_count": 34,
   "metadata": {
    "ExecuteTime": {
     "end_time": "2021-01-11T04:34:31.073209Z",
     "start_time": "2021-01-11T04:34:30.765017Z"
    },
    "button": false,
    "new_sheet": false
   },
   "outputs": [],
   "source": [
    "# Pax5 locus \n",
    "region = 'chr21:36,160,098-36,421,595'.replace(',', '')\n",
    "pr_region = pr.from_dict({'Chromosome': [region.split(':')[0]],\n",
    "                              'Start': [int(region.split(':')[1].split('-')[0])],\n",
    "                              'End': [int(region.split('-')[1])]})\n",
    "\n",
    "genes = gtf.intersect(pr_region)"
   ]
  },
  {
   "cell_type": "code",
   "execution_count": null,
   "metadata": {
    "button": false,
    "new_sheet": false
   },
   "outputs": [],
   "source": []
  },
  {
   "cell_type": "code",
   "execution_count": 35,
   "metadata": {
    "ExecuteTime": {
     "end_time": "2021-01-11T04:34:32.886397Z",
     "start_time": "2021-01-11T04:34:32.879048Z"
    },
    "button": false,
    "new_sheet": false
   },
   "outputs": [],
   "source": [
    "cluster_colors = pd.Series(ad.uns['phenograph_colors'], index=ad.obs['phenograph'].values.categories)\n",
    "cluster_colors.index = 'Clstr ' + cluster_colors.index\n",
    "cluster_colors = cluster_colors[barcode_groups.index]"
   ]
  },
  {
   "cell_type": "code",
   "execution_count": 36,
   "metadata": {
    "tags": []
   },
   "outputs": [
    {
     "name": "stdout",
     "output_type": "stream",
     "text": [
      "\n",
      "Currently Loaded Modules:\n",
      "  1) Anaconda3/2022.05\n",
      "\n",
      " \n",
      "\n"
     ]
    }
   ],
   "source": [
    "!ml BEDTools\n",
    "!module list"
   ]
  },
  {
   "cell_type": "code",
   "execution_count": 37,
   "metadata": {},
   "outputs": [],
   "source": [
    "import os\n",
    "import subprocess\n",
    "import warnings\n",
    "\n",
    "module_name = 'BEDTools/2.30.0-GCC-11.2.0'\n",
    "\n",
    "class LmodError(Exception):\n",
    "    pass\n",
    "\n",
    "lmod = os.environ.get('LMOD_CMD')\n",
    "if lmod is None:\n",
    "    raise LmodError('Environment variable \"LMOD_CMD\" not set. Is lmod available?')\n",
    "\n",
    "cmd = [lmod, 'python', 'load', module_name]\n",
    "process = subprocess.Popen(\n",
    "    cmd,\n",
    "    stdout=subprocess.PIPE,\n",
    "    stderr=subprocess.PIPE,\n",
    ")\n",
    "stdout, stderr = process.communicate()\n",
    "\n",
    "if process.returncode:\n",
    "   raise LmodError(stderr.decode('utf-8'))\n",
    "if stderr:\n",
    "    warnings.warn(stderr.decode('utf-8'))\n",
    "exec(stdout)"
   ]
  },
  {
   "cell_type": "code",
   "execution_count": 38,
   "metadata": {
    "ExecuteTime": {
     "end_time": "2021-01-11T04:34:58.201177Z",
     "start_time": "2021-01-11T04:34:33.915869Z"
    },
    "button": false,
    "new_sheet": false
   },
   "outputs": [
    {
     "data": {
      "image/png": "[encoded data removed]",
      "text/plain": [
       "<Figure size 1000x1150 with 10 Axes>"
      ]
     },
     "metadata": {},
     "output_type": "display_data"
    }
   ],
   "source": [
    "plot_coverage(barcode_groups, region, fragments_file, \n",
    "              peak_groups, genes=genes, highlight_peaks=None,\n",
    "              common_scale=True, smooth=1, coverage_colors=cluster_colors, \n",
    "             fig_width=10,  plot_cov_size = 1.25, frag_type='NFR', normalize=True)\n",
    "\n"
   ]
  },
  {
   "cell_type": "code",
   "execution_count": null,
   "metadata": {
    "button": false,
    "new_sheet": false
   },
   "outputs": [],
   "source": []
  },
  {
   "cell_type": "markdown",
   "metadata": {
    "button": false,
    "new_sheet": false
   },
   "source": [
    "# Motifs "
   ]
  },
  {
   "cell_type": "markdown",
   "metadata": {
    "button": false,
    "new_sheet": false
   },
   "source": [
    "## Peak sequences"
   ]
  },
  {
   "cell_type": "code",
   "execution_count": 39,
   "metadata": {
    "ExecuteTime": {
     "end_time": "2021-01-11T04:37:06.971119Z",
     "start_time": "2021-01-11T04:37:02.752499Z"
    },
    "button": false,
    "new_sheet": false
   },
   "outputs": [],
   "source": [
    "peaks_pr = pyranges_from_strings(ad.var_names)"
   ]
  },
  {
   "cell_type": "markdown",
   "metadata": {
    "button": false,
    "new_sheet": false
   },
   "source": [
    "### Export"
   ]
  },
  {
   "cell_type": "code",
   "execution_count": 40,
   "metadata": {
    "ExecuteTime": {
     "end_time": "2021-01-11T04:37:06.977529Z",
     "start_time": "2021-01-11T04:37:06.973461Z"
    },
    "button": false,
    "new_sheet": false
   },
   "outputs": [],
   "source": [
    "motifs_dir = '../data/pbmc_10x_atac/motifs/'\n",
    "os.makedirs(motifs_dir, exist_ok=True)"
   ]
  },
  {
   "cell_type": "code",
   "execution_count": 41,
   "metadata": {
    "ExecuteTime": {
     "end_time": "2021-01-11T04:37:08.770610Z",
     "start_time": "2021-01-11T04:37:06.980447Z"
    },
    "button": false,
    "new_sheet": false
   },
   "outputs": [],
   "source": [
    "peaks_df = pd.DataFrame()\n",
    "# Positionns\n",
    "peaks_df['chrom'] = peaks_pr.Chromosome\n",
    "peaks_df['chromStart'] = peaks_pr.Start\n",
    "peaks_df['chromEnd'] = peaks_pr.End\n",
    "\n",
    "# summit\n",
    "peaks_df['summit']  = 250\n",
    "\n",
    "# Score\n",
    "peaks_df['score'] = 1\n",
    "\n",
    "# Names\n",
    "peaks_df['name'] = peaks_df['chrom'].astype(str) + ':' + peaks_df['chromStart'].astype(str) + '-' + peaks_df['chromEnd'].astype(str)\n",
    "\n",
    "peaks_df.to_csv(motifs_dir + 'peaks.bed', sep='\\t', index=None, header=True)"
   ]
  },
  {
   "cell_type": "markdown",
   "metadata": {
    "button": false,
    "new_sheet": false
   },
   "source": [
    "### Sequences"
   ]
  },
  {
   "cell_type": "markdown",
   "metadata": {
    "ExecuteTime": {
     "end_time": "2020-12-29T23:40:43.788359Z",
     "start_time": "2020-12-29T23:40:43.781771Z"
    },
    "button": false,
    "new_sheet": false
   },
   "source": [
    "Run this in R\n",
    "\n",
    "```\n",
    "# Install and install SeqGL from here: https://github.com/ManuSetty/SeqGL\n",
    "library(SeqGL)\n",
    "\n",
    "span <- 150\n",
    "org <- 'hg19'\n",
    "\n",
    "# Peaks directory\n",
    "motifs.dir <- './motifs/'\n",
    "peaks.file <- sprintf(\"%speaks.bed\", motifs.dir)\n",
    "\n",
    "# Load peaks \n",
    "regions <- read.table (peaks.file, stringsAsFactors=FALSE, header=TRUE)\n",
    "all.regions <- GRanges (regions[,'chrom'], IRanges (regions[,'chromStart'], regions[,'chromEnd']),\n",
    "    score=regions[,'score'], summit=regions[,'summit'], name=regions[,'name'])\n",
    "start (all.regions) <- end (all.regions) <- start (all.regions) + all.regions$summit - 1\n",
    "all.regions <- resize (all.regions, fix='center', span)\n",
    "\n",
    "\n",
    "# Identify sequences and flag any sequences with N\n",
    "seqs <- SeqGL:::get.seqs (SeqGL:::load.bsgenome (org), all.regions)\n",
    "names(seqs) <- all.regions$name\n",
    "# Save \n",
    "writeXStringSet(seqs, sprintf(\"%s/all_seqs.fa\", motifs.dir))\n",
    "```"
   ]
  },
  {
   "cell_type": "markdown",
   "metadata": {
    "button": false,
    "new_sheet": false
   },
   "source": [
    "### FIMO"
   ]
  },
  {
   "cell_type": "markdown",
   "metadata": {},
   "source": [
    "Install FIMO from here: https://meme-suite.org/meme/doc/fimo.html"
   ]
  },
  {
   "cell_type": "markdown",
   "metadata": {
    "ExecuteTime": {
     "end_time": "2020-12-29T23:41:26.144429Z",
     "start_time": "2020-12-29T23:41:26.139597Z"
    },
    "button": false,
    "new_sheet": false
   },
   "source": [
    "```\n",
    "fimo  -oc fimo  /fh/fast/setty_m/grp/motif_databases/CIS-BP_2.00/Homo_sapiens.meme all_seqs.fa \n",
    "```"
   ]
  },
  {
   "cell_type": "markdown",
   "metadata": {
    "button": false,
    "new_sheet": false
   },
   "source": [
    "### Matrix"
   ]
  },
  {
   "cell_type": "code",
   "execution_count": 42,
   "metadata": {
    "ExecuteTime": {
     "end_time": "2021-01-11T04:41:20.304010Z",
     "start_time": "2021-01-11T04:41:20.300378Z"
    },
    "button": false,
    "new_sheet": false
   },
   "outputs": [],
   "source": [
    "import tqdm\n",
    "\n",
    "fimo_res = '/fh/fast/setty_m/user/cjordan2/repositories/single-cell-primers/data/pbmc_10x_atac/fimo/fimo.tsv'"
   ]
  },
  {
   "cell_type": "code",
   "execution_count": 43,
   "metadata": {
    "button": false,
    "new_sheet": false
   },
   "outputs": [
    {
     "name": "stderr",
     "output_type": "stream",
     "text": [
      "11668837it [01:54, 102252.99it/s]\n"
     ]
    }
   ],
   "source": [
    "# Create matrix\n",
    "# Motif information \n",
    "motifs = pd.Series()\n",
    "motif_index = 0\n",
    "\n",
    "# Peak index\n",
    "peak_index = pd.Series(range(len(ad.var_names)), index=ad.var_names)\n",
    "\n",
    "# Values\n",
    "num_records = int(subprocess.run(['wc', '-l', fimo_res], stdout=subprocess.PIPE).stdout.decode().split(' ')[0]) - 5\n",
    "x = np.zeros(num_records)\n",
    "y = np.zeros(num_records)\n",
    "values = np.zeros(num_records)\n",
    "\n",
    "# Read file\n",
    "rec_index = 0\n",
    "for line in tqdm.tqdm(open(fimo_res, 'r')):\n",
    "    # Skip first line \n",
    "    split = line.split('\\t')\n",
    "    if split[0] == 'motif_id':\n",
    "        continue\n",
    "    \n",
    "    if len(split) == 1:\n",
    "        break\n",
    "        \n",
    "    # Update motifs if necessary\n",
    "    if split[1] not in motifs:\n",
    "        motifs[split[1]] = motif_index\n",
    "        motif_index += 1\n",
    "\n",
    "    # Update record\n",
    "    x[rec_index] = peak_index[split[2]]\n",
    "    y[rec_index] = motifs[split[1]]\n",
    "    values[rec_index] = float(split[6])\n",
    "    rec_index += 1"
   ]
  },
  {
   "cell_type": "code",
   "execution_count": 44,
   "metadata": {
    "button": false,
    "new_sheet": false
   },
   "outputs": [
    {
     "data": {
      "text/plain": [
       "AnnData object with n_obs × n_vars = 155687 × 1068"
      ]
     },
     "execution_count": 44,
     "metadata": {},
     "output_type": "execute_result"
    }
   ],
   "source": [
    "# Sparse matrix\n",
    "from scipy.sparse import csr_matrix\n",
    "pwm_scores = csr_matrix((values, (x, y)), (ad.shape[1], motif_index))\n",
    "pwm_ad = sc.AnnData(pwm_scores)\n",
    "pwm_ad.obs_names = ad.var_names\n",
    "pwm_ad.var_names = motifs.index\n",
    "pwm_ad.write(motifs_dir + 'fimo_pwm_scores.h5ad')\n",
    "\n",
    "pwm_ad"
   ]
  }
 ],
 "metadata": {
  "hide_input": false,
  "kernelspec": {
   "display_name": "singlecell",
   "language": "python",
   "name": "singlecell"
  },
  "language_info": {
   "codemirror_mode": {
    "name": "ipython",
    "version": 3
   },
   "file_extension": ".py",
   "mimetype": "text/x-python",
   "name": "python",
   "nbconvert_exporter": "python",
   "pygments_lexer": "ipython3",
   "version": "3.8.0"
  },
  "toc": {
   "base_numbering": 1,
   "nav_menu": {},
   "number_sections": true,
   "sideBar": true,
   "skip_h1_title": false,
   "title_cell": "Table of Contents",
   "title_sidebar": "Contents",
   "toc_cell": false,
   "toc_position": {
    "height": "calc(100% - 180px)",
    "left": "10px",
    "top": "150px",
    "width": "340px"
   },
   "toc_section_display": true,
   "toc_window_display": true
  },
  "widgets": {
   "application/vnd.jupyter.widget-state+json": {
    "state": {},
    "version_major": 2,
    "version_minor": 0
   }
  }
 },
 "nbformat": 4,
 "nbformat_minor": 4
}
