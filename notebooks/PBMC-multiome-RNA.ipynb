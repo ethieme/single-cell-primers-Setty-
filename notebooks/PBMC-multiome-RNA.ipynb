{
 "cells": [
  {
   "cell_type": "markdown",
   "metadata": {},
   "source": [
    "# Prelim"
   ]
  },
  {
   "cell_type": "markdown",
   "metadata": {},
   "source": [
    "Dataset downloaded from : https://support.10xgenomics.com/single-cell-multiome-atac-gex/datasets/1.0.0/pbmc_unsorted_10k"
   ]
  },
  {
   "cell_type": "markdown",
   "metadata": {
    "ExecuteTime": {
     "end_time": "2021-01-11T04:55:33.487735Z",
     "start_time": "2021-01-11T04:55:33.482589Z"
    }
   },
   "source": [
    "\n",
    "Data is available at `s3://fh-pi-setty-m-eco-public/single-cell-primers/multiome/`\n",
    "Review the notebook `PBMC-RNA-standalone.ipynb` for setup instructions."
   ]
  },
  {
   "cell_type": "markdown",
   "metadata": {},
   "source": [
    "## Load data"
   ]
  },
  {
   "cell_type": "markdown",
   "metadata": {},
   "source": [
    "Download all the multiome data using the following command"
   ]
  },
  {
   "cell_type": "code",
   "execution_count": 1,
   "metadata": {
    "ExecuteTime": {
     "end_time": "2022-01-24T04:55:15.111931Z",
     "start_time": "2022-01-24T04:54:37.388954Z"
    }
   },
   "outputs": [],
   "source": [
    "#!aws s3 sync s3://fh-pi-setty-m-eco-public/single-cell-primers/multiome/ ../data/multiome/"
   ]
  },
  {
   "cell_type": "markdown",
   "metadata": {},
   "source": [
    "# Imports"
   ]
  },
  {
   "cell_type": "code",
   "execution_count": 2,
   "metadata": {
    "ExecuteTime": {
     "end_time": "2022-01-24T04:46:43.502060Z",
     "start_time": "2022-01-24T04:46:42.566034Z"
    }
   },
   "outputs": [],
   "source": [
    "import os\n",
    "import pandas as pd\n",
    "import numpy as np"
   ]
  },
  {
   "cell_type": "code",
   "execution_count": 3,
   "metadata": {
    "ExecuteTime": {
     "end_time": "2022-01-24T04:46:45.925029Z",
     "start_time": "2022-01-24T04:46:43.504183Z"
    }
   },
   "outputs": [],
   "source": [
    "import scanpy as sc\n",
    "import pyranges as pr\n",
    "import warnings"
   ]
  },
  {
   "cell_type": "code",
   "execution_count": 4,
   "metadata": {
    "ExecuteTime": {
     "end_time": "2022-01-24T04:46:46.360069Z",
     "start_time": "2022-01-24T04:46:45.928120Z"
    }
   },
   "outputs": [
    {
     "name": "stderr",
     "output_type": "stream",
     "text": [
      "findfont: Font family ['Raleway'] not found. Falling back to DejaVu Sans.\n",
      "findfont: Font family ['Lato'] not found. Falling back to DejaVu Sans.\n"
     ]
    }
   ],
   "source": [
    "import palantir \n",
    "import phenograph\n",
    "import harmony"
   ]
  },
  {
   "cell_type": "code",
   "execution_count": 5,
   "metadata": {
    "ExecuteTime": {
     "end_time": "2022-01-24T04:46:46.365178Z",
     "start_time": "2022-01-24T04:46:46.362416Z"
    }
   },
   "outputs": [],
   "source": [
    "import matplotlib\n",
    "import matplotlib.pyplot as plt\n",
    "import seaborn as sns"
   ]
  },
  {
   "cell_type": "code",
   "execution_count": 6,
   "metadata": {
    "ExecuteTime": {
     "end_time": "2022-01-24T04:46:46.374477Z",
     "start_time": "2022-01-24T04:46:46.367447Z"
    }
   },
   "outputs": [],
   "source": [
    "%matplotlib inline\n",
    "\n",
    "sns.set_style('ticks')\n",
    "matplotlib.rcParams['figure.figsize'] = [4, 4]\n",
    "matplotlib.rcParams['figure.dpi'] = 100\n",
    "matplotlib.rcParams['image.cmap'] = 'Spectral_r'\n",
    "warnings.filterwarnings(action=\"ignore\", module=\"matplotlib\", message=\"findfont\")"
   ]
  },
  {
   "cell_type": "markdown",
   "metadata": {},
   "source": [
    "# Utility functions"
   ]
  },
  {
   "cell_type": "code",
   "execution_count": 7,
   "metadata": {
    "ExecuteTime": {
     "end_time": "2022-01-24T04:46:46.381653Z",
     "start_time": "2022-01-24T04:46:46.377194Z"
    }
   },
   "outputs": [],
   "source": [
    "def log_transform(ad, ps=0.1):\n",
    "    ad.X.data = np.log2(ad.X.data + ps) - np.log2(ps)"
   ]
  },
  {
   "cell_type": "code",
   "execution_count": 8,
   "metadata": {
    "ExecuteTime": {
     "end_time": "2022-01-24T04:46:46.394746Z",
     "start_time": "2022-01-24T04:46:46.385071Z"
    }
   },
   "outputs": [],
   "source": [
    "from joblib import Parallel, delayed\n",
    "from scipy.sparse import hstack, csr_matrix, issparse\n",
    "import gc\n",
    "\n",
    "def _dot_func(x, y):\n",
    "    return x.dot(y)\n",
    "\n",
    "\n",
    "def impute_data(dm_res, ad, n_steps=3):\n",
    "    T_steps = dm_res['T'] ** n_steps\n",
    "    T_steps = T_steps.astype(np.float32)\n",
    "\n",
    "    # RUn in parallel\n",
    "    seq = np.append(np.arange(0, ad.X.shape[1], 100), [ad.X.shape[1]])\n",
    "    res = Parallel(n_jobs=-1)(delayed(_dot_func)(T_steps, ad.X[:, seq[i - 1]:seq[i]]) for i in range(1, len(seq)))\n",
    "    imputed_data = hstack(res)\n",
    "    imputed_data = imputed_data.todense()\n",
    "    imputed_data[imputed_data < 1e-2] = 0\n",
    "    gc.collect()\n",
    "\n",
    "    return imputed_data"
   ]
  },
  {
   "cell_type": "markdown",
   "metadata": {},
   "source": [
    "# Load data"
   ]
  },
  {
   "cell_type": "code",
   "execution_count": 9,
   "metadata": {
    "ExecuteTime": {
     "end_time": "2022-01-24T04:46:46.400445Z",
     "start_time": "2022-01-24T04:46:46.397748Z"
    }
   },
   "outputs": [],
   "source": [
    "data_dir = '../data/multiome/' #change to your data dir "
   ]
  },
  {
   "cell_type": "code",
   "execution_count": 10,
   "metadata": {
    "tags": []
   },
   "outputs": [],
   "source": [
    "data_dir = '/fh/fast/setty_m/grp/public-datasets/10x_pbmc_10k_multiome/'"
   ]
  },
  {
   "cell_type": "code",
   "execution_count": 11,
   "metadata": {
    "ExecuteTime": {
     "end_time": "2022-01-24T04:46:51.068072Z",
     "start_time": "2022-01-24T04:46:46.405213Z"
    },
    "tags": []
   },
   "outputs": [
    {
     "name": "stderr",
     "output_type": "stream",
     "text": [
      "/home/cjordan2/.conda/envs/singlecell/lib/python3.8/site-packages/anndata/_core/anndata.py:1830: UserWarning: Variable names are not unique. To make them unique, call `.var_names_make_unique`.\n",
      "  utils.warn_names_duplicates(\"var\")\n"
     ]
    }
   ],
   "source": [
    "# Load 10x filtered matrix containing both RNA and ATAC features \n",
    "comb_ad = sc.read_10x_h5(data_dir + 'pbmc_unsorted_10k_filtered_feature_bc_matrix.h5', gex_only=False)\n",
    "comb_ad.obs_names = 'pbmc_multiome#' + comb_ad.obs_names"
   ]
  },
  {
   "cell_type": "code",
   "execution_count": 12,
   "metadata": {
    "ExecuteTime": {
     "end_time": "2022-01-24T04:46:54.432728Z",
     "start_time": "2022-01-24T04:46:54.425316Z"
    },
    "tags": []
   },
   "outputs": [
    {
     "data": {
      "text/plain": [
       "AnnData object with n_obs × n_vars = 12016 × 100352\n",
       "    var: 'gene_ids', 'feature_types', 'genome'"
      ]
     },
     "execution_count": 12,
     "metadata": {},
     "output_type": "execute_result"
    }
   ],
   "source": [
    "comb_ad"
   ]
  },
  {
   "cell_type": "markdown",
   "metadata": {
    "tags": []
   },
   "source": [
    "\n",
    "Add the features.tsv to the Anndata to allow matching of gene names to ENSEMBL IDs."
   ]
  },
  {
   "cell_type": "code",
   "execution_count": 13,
   "metadata": {},
   "outputs": [],
   "source": [
    "comb_ad.uns['features'] = pd.read_csv(data_dir + \"filtered_feature_bc_matrix/features.tsv.gz\")"
   ]
  },
  {
   "cell_type": "code",
   "execution_count": 14,
   "metadata": {
    "ExecuteTime": {
     "end_time": "2022-01-24T04:47:03.486292Z",
     "start_time": "2022-01-24T04:46:59.460774Z"
    }
   },
   "outputs": [],
   "source": [
    "# Barcode metrics\n",
    "bc_metrics = pd.read_csv(data_dir + '/pbmc_unsorted_10k_per_barcode_metrics.csv', \n",
    "                index_col=0)\n",
    "bc_metrics.index = 'pbmc_multiome' + '#' +bc_metrics.index \n",
    "\n",
    "# FRIP\n",
    "bc_metrics['FRIP'] = bc_metrics['atac_peak_region_fragments']/bc_metrics['atac_fragments']"
   ]
  },
  {
   "cell_type": "code",
   "execution_count": 15,
   "metadata": {
    "ExecuteTime": {
     "end_time": "2022-01-24T04:47:11.011007Z",
     "start_time": "2022-01-24T04:47:09.047722Z"
    }
   },
   "outputs": [
    {
     "name": "stderr",
     "output_type": "stream",
     "text": [
      "/home/cjordan2/.conda/envs/singlecell/lib/python3.8/site-packages/anndata/_core/anndata.py:1830: UserWarning: Variable names are not unique. To make them unique, call `.var_names_make_unique`.\n",
      "  utils.warn_names_duplicates(\"var\")\n"
     ]
    }
   ],
   "source": [
    "# Separate RNA and ATAC components\n",
    "rna_ad = comb_ad[:, comb_ad.var['feature_types'] == 'Gene Expression']\n",
    "rna_ad.var_names_make_unique()\n",
    "\n",
    "atac_ad = comb_ad[:, comb_ad.var['feature_types'] == 'Peaks']\n",
    "atac_ad.var_names_make_unique()"
   ]
  },
  {
   "cell_type": "code",
   "execution_count": 16,
   "metadata": {
    "ExecuteTime": {
     "end_time": "2022-01-24T04:47:11.923833Z",
     "start_time": "2022-01-24T04:47:11.919282Z"
    }
   },
   "outputs": [
    {
     "data": {
      "text/plain": [
       "AnnData object with n_obs × n_vars = 12016 × 36601\n",
       "    var: 'gene_ids', 'feature_types', 'genome'\n",
       "    uns: 'features'"
      ]
     },
     "execution_count": 16,
     "metadata": {},
     "output_type": "execute_result"
    }
   ],
   "source": [
    "rna_ad"
   ]
  },
  {
   "cell_type": "code",
   "execution_count": 17,
   "metadata": {
    "ExecuteTime": {
     "end_time": "2022-01-24T04:47:12.715233Z",
     "start_time": "2022-01-24T04:47:12.709205Z"
    }
   },
   "outputs": [
    {
     "data": {
      "text/plain": [
       "AnnData object with n_obs × n_vars = 12016 × 63751\n",
       "    var: 'gene_ids', 'feature_types', 'genome'\n",
       "    uns: 'features'"
      ]
     },
     "execution_count": 17,
     "metadata": {},
     "output_type": "execute_result"
    }
   ],
   "source": [
    "atac_ad"
   ]
  },
  {
   "cell_type": "code",
   "execution_count": 18,
   "metadata": {
    "ExecuteTime": {
     "end_time": "2022-01-24T04:47:13.696262Z",
     "start_time": "2022-01-24T04:47:13.692724Z"
    }
   },
   "outputs": [],
   "source": [
    "sample_cells = rna_ad.obs_names"
   ]
  },
  {
   "cell_type": "markdown",
   "metadata": {},
   "source": [
    "# Preprocess"
   ]
  },
  {
   "cell_type": "markdown",
   "metadata": {},
   "source": [
    "This section follows the preprocessing steps of the single-cell RNA-seq analysis "
   ]
  },
  {
   "cell_type": "code",
   "execution_count": 19,
   "metadata": {
    "ExecuteTime": {
     "end_time": "2022-01-24T04:47:43.933165Z",
     "start_time": "2022-01-24T04:47:43.925032Z"
    }
   },
   "outputs": [],
   "source": [
    "ad = rna_ad"
   ]
  },
  {
   "cell_type": "markdown",
   "metadata": {},
   "source": [
    "## QC"
   ]
  },
  {
   "cell_type": "code",
   "execution_count": 20,
   "metadata": {
    "ExecuteTime": {
     "end_time": "2022-01-24T04:47:46.357940Z",
     "start_time": "2022-01-24T04:47:44.771750Z"
    }
   },
   "outputs": [],
   "source": [
    "ad.var['mt'] = ad.var_names.str.startswith('MT-')\n",
    "sc.pp.calculate_qc_metrics(ad, qc_vars=['mt'], inplace=True, percent_top=None, log1p=False, )"
   ]
  },
  {
   "cell_type": "markdown",
   "metadata": {},
   "source": [
    "### Filter cell based on RNA"
   ]
  },
  {
   "cell_type": "code",
   "execution_count": 21,
   "metadata": {
    "ExecuteTime": {
     "end_time": "2022-01-24T04:47:47.510920Z",
     "start_time": "2022-01-24T04:47:47.212452Z"
    }
   },
   "outputs": [
    {
     "data": {
      "image/png": "[encoded data removed]",
      "text/plain": [
       "<Figure size 400x400 with 1 Axes>"
      ]
     },
     "metadata": {},
     "output_type": "display_data"
    }
   ],
   "source": [
    "plt.figure()\n",
    "ax = plt.gca()\n",
    "ax.hist(np.log10(ad.obs['total_counts']), 50)\n",
    "ax.set_xlabel('log10(molecules per cell)')\n",
    "ax.set_ylabel('Frequency')\n",
    "sns.despine()"
   ]
  },
  {
   "cell_type": "code",
   "execution_count": 22,
   "metadata": {
    "ExecuteTime": {
     "end_time": "2022-01-24T04:47:49.047545Z",
     "start_time": "2022-01-24T04:47:48.831298Z"
    }
   },
   "outputs": [
    {
     "data": {
      "image/png": "[encoded data removed]",
      "text/plain": [
       "<Figure size 400x400 with 1 Axes>"
      ]
     },
     "metadata": {},
     "output_type": "display_data"
    }
   ],
   "source": [
    "# Manually adjust the threshold percentage depending on the dataset\n",
    "# Doublet detection (Eg: scrublet) will work better for higher molecule count cells\n",
    "THRESHOLDS = np.log10(np.percentile((ad.obs['total_counts']), [3.5, 99.5]))\n",
    "\n",
    "plt.figure()\n",
    "ax = plt.gca()\n",
    "ax.hist(np.log10(ad.obs['total_counts']), 50)\n",
    "ax.vlines(THRESHOLDS, ax.get_ylim()[0], ax.get_ylim()[1], color='black', linestyle='--')\n",
    "ax.set_xlabel('log10(molecules per cell)')\n",
    "ax.set_ylabel('Frequency')\n",
    "sns.despine()"
   ]
  },
  {
   "cell_type": "code",
   "execution_count": 23,
   "metadata": {
    "ExecuteTime": {
     "end_time": "2022-01-24T04:47:51.076524Z",
     "start_time": "2022-01-24T04:47:51.066205Z"
    }
   },
   "outputs": [],
   "source": [
    "# Filter cells \n",
    "sample_cells = sample_cells[(np.log10(ad.obs['total_counts'][sample_cells]) > THRESHOLDS[0]) & \\\n",
    "    (np.log10(ad.obs['total_counts'][sample_cells]) < THRESHOLDS[1]) ]\n"
   ]
  },
  {
   "cell_type": "code",
   "execution_count": 24,
   "metadata": {
    "ExecuteTime": {
     "end_time": "2022-01-24T04:47:52.097447Z",
     "start_time": "2022-01-24T04:47:51.902248Z"
    }
   },
   "outputs": [
    {
     "data": {
      "image/png": "[encoded data removed]",
      "text/plain": [
       "<Figure size 400x400 with 1 Axes>"
      ]
     },
     "metadata": {},
     "output_type": "display_data"
    }
   ],
   "source": [
    "plt.figure()\n",
    "ax = plt.gca()\n",
    "ax.hist(np.log10(ad.obs['total_counts'][sample_cells]), 50)\n",
    "ax.set_xlabel('log10(molecules per cell)')\n",
    "ax.set_ylabel('Frequency')\n",
    "sns.despine()"
   ]
  },
  {
   "cell_type": "markdown",
   "metadata": {},
   "source": [
    "### Filter based on ATAC"
   ]
  },
  {
   "cell_type": "code",
   "execution_count": 25,
   "metadata": {
    "ExecuteTime": {
     "end_time": "2022-01-24T04:47:55.181181Z",
     "start_time": "2022-01-24T04:47:54.579618Z"
    }
   },
   "outputs": [
    {
     "data": {
      "image/png": "[encoded data removed]",
      "text/plain": [
       "<Figure size 400x400 with 1 Axes>"
      ]
     },
     "metadata": {},
     "output_type": "display_data"
    }
   ],
   "source": [
    "## CAUTION: CellRanger peak calling is unreliable and we only use it here to filter cells with low \n",
    "##          fraction of reads in peaks. This is ok since CellRanger peak caller dramatically over estimates \n",
    "##          the peak widths. We might incur some false negatives, but thats an acceptable error for filtering   \n",
    "plt.figure()\n",
    "ax = plt.gca()\n",
    "ax.hist(bc_metrics['FRIP'][sample_cells], 50)\n",
    "plt.title('Fraction of reads in peaks')\n",
    "sns.despine()"
   ]
  },
  {
   "cell_type": "code",
   "execution_count": 26,
   "metadata": {
    "ExecuteTime": {
     "end_time": "2022-01-24T04:47:56.361583Z",
     "start_time": "2022-01-24T04:47:56.344938Z"
    }
   },
   "outputs": [],
   "source": [
    "THRESHOLD = 0.4\n",
    "sample_cells = sample_cells[bc_metrics['FRIP'][sample_cells] > THRESHOLD]"
   ]
  },
  {
   "cell_type": "markdown",
   "metadata": {},
   "source": [
    "### Filter based on mitochondria"
   ]
  },
  {
   "cell_type": "code",
   "execution_count": 27,
   "metadata": {
    "ExecuteTime": {
     "end_time": "2022-01-24T04:48:00.756279Z",
     "start_time": "2022-01-24T04:47:58.923004Z"
    }
   },
   "outputs": [
    {
     "data": {
      "image/png": "[encoded data removed]",
      "text/plain": [
       "<Figure size 400x400 with 1 Axes>"
      ]
     },
     "metadata": {},
     "output_type": "display_data"
    }
   ],
   "source": [
    "MITO_THRESHOLD = 25\n",
    "\n",
    "x,y,dens = palantir.plot.density_2d(ad.obs['total_counts'][sample_cells], \n",
    "               ad.obs['pct_counts_mt'][sample_cells])\n",
    "\n",
    "plt.figure()\n",
    "ax = plt.gca()\n",
    "ax.scatter(x, y, c=dens, s=5)\n",
    "ax.hlines(MITO_THRESHOLD, ax.get_xlim()[0], ax.get_xlim()[1], color='black', linestyle='--')\n",
    "\n",
    "plt.xlabel('Total molecule count')\n",
    "plt.ylabel('Mitochondrial fraction')\n",
    "sns.despine()\n"
   ]
  },
  {
   "cell_type": "code",
   "execution_count": 28,
   "metadata": {
    "ExecuteTime": {
     "end_time": "2022-01-24T04:48:01.113610Z",
     "start_time": "2022-01-24T04:48:01.104012Z"
    }
   },
   "outputs": [],
   "source": [
    "sample_cells = sample_cells[ad.obs['pct_counts_mt'][sample_cells] < MITO_THRESHOLD]"
   ]
  },
  {
   "cell_type": "code",
   "execution_count": 29,
   "metadata": {
    "ExecuteTime": {
     "end_time": "2022-01-24T04:48:01.634266Z",
     "start_time": "2022-01-24T04:48:01.625754Z"
    }
   },
   "outputs": [
    {
     "data": {
      "text/plain": [
       "View of AnnData object with n_obs × n_vars = 11275 × 36601\n",
       "    obs: 'n_genes_by_counts', 'total_counts', 'total_counts_mt', 'pct_counts_mt'\n",
       "    var: 'gene_ids', 'feature_types', 'genome', 'mt', 'n_cells_by_counts', 'mean_counts', 'pct_dropout_by_counts', 'total_counts'\n",
       "    uns: 'features'"
      ]
     },
     "execution_count": 29,
     "metadata": {},
     "output_type": "execute_result"
    }
   ],
   "source": [
    "ad = ad[sample_cells, :]\n",
    "ad"
   ]
  },
  {
   "cell_type": "code",
   "execution_count": null,
   "metadata": {},
   "outputs": [],
   "source": []
  },
  {
   "cell_type": "markdown",
   "metadata": {},
   "source": [
    "## Analysis"
   ]
  },
  {
   "cell_type": "code",
   "execution_count": 30,
   "metadata": {
    "ExecuteTime": {
     "end_time": "2022-01-24T04:48:05.705173Z",
     "start_time": "2022-01-24T04:48:04.758714Z"
    }
   },
   "outputs": [
    {
     "name": "stderr",
     "output_type": "stream",
     "text": [
      "/home/cjordan2/.conda/envs/singlecell/lib/python3.8/site-packages/scanpy/preprocessing/_simple.py:251: ImplicitModificationWarning: Trying to modify attribute `.var` of view, initializing view as actual.\n",
      "  adata.var['n_cells'] = number\n"
     ]
    }
   ],
   "source": [
    "# Filter genes \n",
    "sc.pp.filter_genes(ad, min_cells=50)"
   ]
  },
  {
   "cell_type": "code",
   "execution_count": 31,
   "metadata": {
    "ExecuteTime": {
     "end_time": "2022-01-24T04:48:06.197420Z",
     "start_time": "2022-01-24T04:48:05.707525Z"
    }
   },
   "outputs": [],
   "source": [
    "# Normalize and log transform\n",
    "sc.pp.normalize_per_cell(ad)\n",
    "log_transform(ad)"
   ]
  },
  {
   "cell_type": "code",
   "execution_count": 32,
   "metadata": {
    "ExecuteTime": {
     "end_time": "2022-01-24T04:48:07.027264Z",
     "start_time": "2022-01-24T04:48:06.200941Z"
    }
   },
   "outputs": [
    {
     "data": {
      "text/plain": [
       "AnnData object with n_obs × n_vars = 11275 × 16426\n",
       "    obs: 'n_genes_by_counts', 'total_counts', 'total_counts_mt', 'pct_counts_mt', 'n_counts'\n",
       "    var: 'gene_ids', 'feature_types', 'genome', 'mt', 'n_cells_by_counts', 'mean_counts', 'pct_dropout_by_counts', 'total_counts', 'n_cells', 'highly_variable', 'means', 'dispersions', 'dispersions_norm'\n",
       "    uns: 'features', 'hvg'"
      ]
     },
     "execution_count": 32,
     "metadata": {},
     "output_type": "execute_result"
    }
   ],
   "source": [
    "# Highly variable genes [Num. of genes is a paramter, typically 1.5-2.5k genes work well]\n",
    "sc.pp.highly_variable_genes(ad, flavor='cell_ranger', n_top_genes=2500)\n",
    "ad"
   ]
  },
  {
   "cell_type": "code",
   "execution_count": 33,
   "metadata": {
    "ExecuteTime": {
     "end_time": "2022-01-24T04:48:09.313800Z",
     "start_time": "2022-01-24T04:48:07.029946Z"
    }
   },
   "outputs": [
    {
     "data": {
      "text/plain": [
       "AnnData object with n_obs × n_vars = 11275 × 16426\n",
       "    obs: 'n_genes_by_counts', 'total_counts', 'total_counts_mt', 'pct_counts_mt', 'n_counts'\n",
       "    var: 'gene_ids', 'feature_types', 'genome', 'mt', 'n_cells_by_counts', 'mean_counts', 'pct_dropout_by_counts', 'total_counts', 'n_cells', 'highly_variable', 'means', 'dispersions', 'dispersions_norm'\n",
       "    uns: 'features', 'hvg', 'pca'\n",
       "    obsm: 'X_pca'\n",
       "    varm: 'PCs'"
      ]
     },
     "execution_count": 33,
     "metadata": {},
     "output_type": "execute_result"
    }
   ],
   "source": [
    "# PCA\n",
    "sc.pp.pca(ad, use_highly_variable=True, n_comps=50)\n",
    "ad\n",
    "# 50 comps is an approxmiation here - choose number of components by knee point or fraction of explained variance"
   ]
  },
  {
   "cell_type": "code",
   "execution_count": null,
   "metadata": {
    "ExecuteTime": {
     "end_time": "2022-01-24T04:48:35.278437Z",
     "start_time": "2022-01-24T04:48:09.316520Z"
    }
   },
   "outputs": [
    {
     "name": "stderr",
     "output_type": "stream",
     "text": [
      "2023-01-25 16:58:53.685679: I tensorflow/core/platform/cpu_feature_guard.cc:193] This TensorFlow binary is optimized with oneAPI Deep Neural Network Library (oneDNN) to use the following CPU instructions in performance-critical operations:  AVX2 AVX512F AVX512_VNNI FMA\n",
      "To enable them in other operations, rebuild TensorFlow with the appropriate compiler flags.\n",
      "2023-01-25 16:58:53.872241: I tensorflow/core/util/util.cc:169] oneDNN custom operations are on. You may see slightly different numerical results due to floating-point round-off errors from different computation orders. To turn them off, set the environment variable `TF_ENABLE_ONEDNN_OPTS=0`.\n",
      "2023-01-25 16:58:53.877677: W tensorflow/stream_executor/platform/default/dso_loader.cc:64] Could not load dynamic library 'libcudart.so.11.0'; dlerror: libcudart.so.11.0: cannot open shared object file: No such file or directory\n",
      "2023-01-25 16:58:53.877703: I tensorflow/stream_executor/cuda/cudart_stub.cc:29] Ignore above cudart dlerror if you do not have a GPU set up on your machine.\n",
      "2023-01-25 16:58:53.904435: E tensorflow/stream_executor/cuda/cuda_blas.cc:2981] Unable to register cuBLAS factory: Attempting to register factory for plugin cuBLAS when one has already been registered\n"
     ]
    }
   ],
   "source": [
    "# UMAP and Leiden - requires the computation of nearest neighbors\n",
    "sc.pp.neighbors(ad, use_rep='X_pca')\n",
    "sc.tl.umap(ad)\n",
    "sc.tl.leiden(ad)\n",
    "ad"
   ]
  },
  {
   "cell_type": "code",
   "execution_count": null,
   "metadata": {
    "ExecuteTime": {
     "end_time": "2022-01-24T04:48:37.049770Z",
     "start_time": "2022-01-24T04:48:35.280896Z"
    }
   },
   "outputs": [],
   "source": [
    "# Diffusion maps \n",
    "dm_res = palantir.utils.run_diffusion_maps(pd.DataFrame(ad.obsm['X_pca'], index=ad.obs_names))\n",
    "ad.obsp['DM_Kernel'] = dm_res['kernel']\n",
    "ad.obsm['DM_EigenVectors'] = dm_res['EigenVectors'].values\n",
    "ad.uns['DMEigenValues'] = dm_res['EigenValues'].values\n",
    "ad"
   ]
  },
  {
   "cell_type": "code",
   "execution_count": null,
   "metadata": {
    "ExecuteTime": {
     "end_time": "2022-01-24T04:48:55.944511Z",
     "start_time": "2022-01-24T04:48:37.051851Z"
    }
   },
   "outputs": [],
   "source": [
    "# Phenograph \n",
    "ad.obs['phenograph'], _, _ = phenograph.cluster(ad.obsm['X_pca'])\n",
    "ad.obs['phenograph'] = ad.obs['phenograph'].astype(str)"
   ]
  },
  {
   "cell_type": "code",
   "execution_count": null,
   "metadata": {
    "ExecuteTime": {
     "end_time": "2022-01-24T04:50:24.734432Z",
     "start_time": "2022-01-24T04:48:55.948688Z"
    },
    "tags": []
   },
   "outputs": [],
   "source": [
    "# Imputation\n",
    "\n",
    "ad.obsm['MAGIC_imputed_data'] = np.array(impute_data(dm_res, ad))\n",
    "ad.layers['MAGIC_imputed_data'] = ad.obsm['MAGIC_imputed_data']"
   ]
  },
  {
   "cell_type": "markdown",
   "metadata": {},
   "source": [
    "# Visualize results"
   ]
  },
  {
   "cell_type": "code",
   "execution_count": null,
   "metadata": {
    "ExecuteTime": {
     "end_time": "2022-01-24T04:50:24.753819Z",
     "start_time": "2022-01-24T04:50:24.742935Z"
    }
   },
   "outputs": [],
   "source": [
    "ad.obs['log_n_counts'] = np.log10(ad.obs['total_counts'])"
   ]
  },
  {
   "cell_type": "code",
   "execution_count": null,
   "metadata": {
    "ExecuteTime": {
     "end_time": "2022-01-24T04:50:25.980612Z",
     "start_time": "2022-01-24T04:50:24.756700Z"
    },
    "tags": []
   },
   "outputs": [],
   "source": [
    "sc.pl.embedding(ad, basis='umap', color='log_n_counts', frameon=False)"
   ]
  },
  {
   "cell_type": "code",
   "execution_count": null,
   "metadata": {
    "ExecuteTime": {
     "end_time": "2022-01-24T04:50:26.288627Z",
     "start_time": "2022-01-24T04:50:25.982844Z"
    },
    "tags": []
   },
   "outputs": [],
   "source": [
    "sc.pl.embedding(ad, basis='umap', color=['leiden'], frameon=False)"
   ]
  },
  {
   "cell_type": "markdown",
   "metadata": {},
   "source": [
    "# Celltype annotation"
   ]
  },
  {
   "cell_type": "code",
   "execution_count": null,
   "metadata": {
    "ExecuteTime": {
     "end_time": "2022-01-24T04:50:26.304870Z",
     "start_time": "2022-01-24T04:50:26.291112Z"
    }
   },
   "outputs": [],
   "source": [
    "genes = pd.Series([\n",
    "    \"CD34\",  #Early Progenitor\n",
    "    \"GATA1\", #Erythroid\n",
    "    \"PAX5\", \"MS4A1\", \"MME\", #B-Cell Trajectory\n",
    "    \"CD14\",  #Monocytes\n",
    "    \"CD3D\", \"CD8A\", 'CD4', #TCells,\n",
    "    'FCGR3A', #'CD16', \n",
    "     'LEF1', 'NKG7', 'TREM1', 'LYZ', 'CD19',  'IRF8', 'IRF4',\n",
    "    'ITGA2B', # CD41,\n",
    "    'NCAM1', # CD56,\n",
    "    'CCR7' # Memory T cell\n",
    "])\n",
    "genes = genes[genes.isin(ad.var_names)]"
   ]
  },
  {
   "cell_type": "code",
   "execution_count": null,
   "metadata": {
    "tags": []
   },
   "outputs": [],
   "source": [
    "sc.pl.embedding(ad, basis='umap', color=genes, layer='MAGIC_imputed_data', frameon=False, ncols=5)"
   ]
  },
  {
   "cell_type": "code",
   "execution_count": null,
   "metadata": {
    "ExecuteTime": {
     "end_time": "2022-01-24T04:50:29.901853Z",
     "start_time": "2022-01-24T04:50:26.315924Z"
    }
   },
   "outputs": [],
   "source": [
    "palantir.plot.plot_gene_expression(imp_df,\n",
    "                                   pd.DataFrame(ad.obsm['X_umap'], \n",
    "                                               index=ad.obs_names, columns=['x', 'y']), \n",
    "                                   genes)"
   ]
  },
  {
   "cell_type": "markdown",
   "metadata": {},
   "source": [
    "Cell type annotation can be performed using the same markers listed in https://github.com/settylab/single-cell-primers/blob/main/notebooks/PBMC-RNA-standalone.ipynb"
   ]
  },
  {
   "cell_type": "markdown",
   "metadata": {},
   "source": [
    "# Save"
   ]
  },
  {
   "cell_type": "code",
   "execution_count": null,
   "metadata": {
    "ExecuteTime": {
     "end_time": "2022-01-24T04:50:32.693995Z",
     "start_time": "2022-01-24T04:50:29.906001Z"
    },
    "tags": []
   },
   "outputs": [],
   "source": [
    "temp = comb_ad[ad.obs_names, :]\n",
    "temp.var_names_make_unique()\n",
    "temp = temp[:, ad.var_names]"
   ]
  },
  {
   "cell_type": "code",
   "execution_count": null,
   "metadata": {
    "ExecuteTime": {
     "end_time": "2022-01-24T04:50:33.284295Z",
     "start_time": "2022-01-24T04:50:32.696474Z"
    }
   },
   "outputs": [],
   "source": [
    "# Attach raw counts\n",
    "ad.raw = sc.AnnData(temp.X)"
   ]
  },
  {
   "cell_type": "code",
   "execution_count": null,
   "metadata": {},
   "outputs": [],
   "source": [
    "from scipy.sparse import csr_matrix\n",
    "ad.layers['MAGIC_imputed_data'] = csr_matrix(ad.layers['MAGIC_imputed_data'])"
   ]
  },
  {
   "cell_type": "code",
   "execution_count": null,
   "metadata": {
    "ExecuteTime": {
     "end_time": "2022-01-24T04:57:27.114406Z",
     "start_time": "2022-01-24T04:57:21.417678Z"
    },
    "tags": []
   },
   "outputs": [],
   "source": [
    "ad.write(data_dir + 'pbmc_multiome_rna.h5ad')"
   ]
  },
  {
   "cell_type": "code",
   "execution_count": null,
   "metadata": {
    "ExecuteTime": {
     "end_time": "2021-01-11T05:52:04.207540Z",
     "start_time": "2021-01-11T05:52:03.942515Z"
    },
    "tags": []
   },
   "outputs": [],
   "source": [
    "# Export cell names for ATAC - only this subset of cells will be use for ATAC analysis\n",
    "pd.DataFrame(ad.obs_names.str.split('#').str.get(1)).to_csv(data_dir + 'pbmc_multiome_cells.csv')"
   ]
  },
  {
   "cell_type": "code",
   "execution_count": null,
   "metadata": {
    "tags": []
   },
   "outputs": [],
   "source": [
    "!head $data_dir/pbmc_multiome_cells.csv"
   ]
  },
  {
   "cell_type": "code",
   "execution_count": null,
   "metadata": {},
   "outputs": [],
   "source": []
  }
 ],
 "metadata": {
  "hide_input": false,
  "kernelspec": {
   "display_name": "singlecell",
   "language": "python",
   "name": "singlecell"
  },
  "language_info": {
   "codemirror_mode": {
    "name": "ipython",
    "version": 3
   },
   "file_extension": ".py",
   "mimetype": "text/x-python",
   "name": "python",
   "nbconvert_exporter": "python",
   "pygments_lexer": "ipython3",
   "version": "3.8.0"
  },
  "toc": {
   "base_numbering": 1,
   "nav_menu": {},
   "number_sections": true,
   "sideBar": true,
   "skip_h1_title": false,
   "title_cell": "Table of Contents",
   "title_sidebar": "Contents",
   "toc_cell": false,
   "toc_position": {},
   "toc_section_display": true,
   "toc_window_display": true
  },
  "widgets": {
   "application/vnd.jupyter.widget-state+json": {
    "state": {},
    "version_major": 2,
    "version_minor": 0
   }
  }
 },
 "nbformat": 4,
 "nbformat_minor": 4
}
